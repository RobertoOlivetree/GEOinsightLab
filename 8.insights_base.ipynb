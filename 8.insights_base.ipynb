{
 "cells": [
  {
   "cell_type": "markdown",
   "id": "e47de12e-5d52-4948-8423-ef20a5219259",
   "metadata": {},
   "source": [
    "<div style=\"border: none; margin: 5px 0; border-top: 1px dashed #FFFFFF; border-bottom: 1px dashed #FFFFFF; height: 5px;\"></div>"
   ]
  },
  {
   "cell_type": "markdown",
   "id": "5df94cc3-1a51-49db-a099-6d9a5f4ab61a",
   "metadata": {},
   "source": [
    "<h2 style=\"color: #FFA07A;\">8. Conclusões (<i>insights</i>)</h2>"
   ]
  },
  {
   "cell_type": "code",
   "execution_count": 6,
   "id": "9ae5c6e6-4381-4765-88c7-84b8d86528ef",
   "metadata": {},
   "outputs": [
    {
     "data": {
      "application/vnd.jupyter.widget-view+json": {
       "model_id": "03c7bd9f21954f64ac44a37ab01a2d5f",
       "version_major": 2,
       "version_minor": 0
      },
      "text/plain": [
       "HTML(value='<div></div>')"
      ]
     },
     "metadata": {},
     "output_type": "display_data"
    }
   ],
   "source": [
    "#\n",
    "import ipywidgets as widgets\n",
    "import time\n",
    "\n",
    "# --- Criar um aplicativo HTML para exibir o efeito de escrita ---\n",
    "output = widgets.HTML(value=\"<div></div>\")\n",
    "display(output)\n",
    "\n",
    "# --- Texto formatado para o efeito de escrita ---\n",
    "texto = \"\"\"\n",
    "<div>\n",
    "    <p>🔸 Por fim, apresentamos um conjunto de questões que refletem as principais conclusões sobre a acessibilidade aos serviços no município do Porto.</p> \n",
    "</div>\n",
    "\"\"\"\n",
    "\n",
    "# --- Efeito de escrita carácter a carácter (mantém o HTML) ---\n",
    "texto_html = \"\"\"\n",
    "<div style=\"background-color: #FFFFFF; color: #333333; padding: 15px; \n",
    "            border-left: 5px solid #FFA500; font-family: Arial, sans-serif; \n",
    "            text-align: justify; font-size: 16px; line-height: 1.6;\">\n",
    "\"\"\"\n",
    "for palavra in texto.split():\n",
    "    texto_html += palavra + \" \"\n",
    "    output.value = texto_html + \"</div>\"  \n",
    "    time.sleep(0.10)  # Ajustar velocidade\n",
    "\n",
    "# --- Garantir que o texto completo é exibido no final ---\n",
    "output.value = texto_html + \"</div>\" "
   ]
  },
  {
   "cell_type": "markdown",
   "id": "ce3a2198-e273-4c06-898f-9b1d6007663b",
   "metadata": {},
   "source": [
    "<div style=\"border: none; margin: 5px 0; border-top: 1px dashed #FFFFFF; border-bottom: 1px dashed #FFFFFF; height: 5px;\"></div>"
   ]
  },
  {
   "cell_type": "code",
   "execution_count": 8,
   "id": "bb364a65-7b3f-45e7-9aa5-822fa431424c",
   "metadata": {},
   "outputs": [
    {
     "data": {
      "application/javascript": [
       "window.cellVisibilityManager.hideCells();"
      ],
      "text/plain": [
       "<IPython.core.display.Javascript object>"
      ]
     },
     "metadata": {},
     "output_type": "display_data"
    },
    {
     "data": {
      "application/javascript": [
       "\n",
       "    (function() {\n",
       "        function ensureManagerExists() {\n",
       "            if (!window.cellVisibilityManager) {\n",
       "                window.cellVisibilityManager = {\n",
       "                    toggleButton: null,\n",
       "\n",
       "                    hideCells: function() {\n",
       "                        try {\n",
       "                            document.querySelectorAll('.jp-Cell, .cell').forEach(cell => {\n",
       "                                let editor = cell.querySelector('.jp-InputArea-editor, .input_area');\n",
       "                                if (editor && editor.innerText.includes('# hide-me')) {\n",
       "                                    let input = cell.querySelector('.jp-InputArea, .input_area');\n",
       "                                    if (input) {\n",
       "                                        input.style.display = 'none';\n",
       "                                        cell.classList.add('hidden');\n",
       "                                    }\n",
       "                                }\n",
       "                            });\n",
       "                        } catch (e) {\n",
       "                            console.warn(\"Erro ao ocultar células:\", e);\n",
       "                        }\n",
       "                    },\n",
       "\n",
       "                    showCells: function() {\n",
       "                        try {\n",
       "                            document.querySelectorAll('.jp-Cell, .cell').forEach(cell => {\n",
       "                                if (cell.classList.contains('hidden')) {\n",
       "                                    let input = cell.querySelector('.jp-InputArea, .input_area');\n",
       "                                    if (input) {\n",
       "                                        input.style.display = '';\n",
       "                                        cell.classList.remove('hidden');\n",
       "                                    }\n",
       "                                }\n",
       "                            });\n",
       "                        } catch (e) {\n",
       "                            console.warn(\"Erro ao mostrar células:\", e);\n",
       "                        }\n",
       "                    },\n",
       "\n",
       "                    toggleCells: function() {\n",
       "                        try {\n",
       "                            let hiddenCells = document.querySelectorAll('.hidden');\n",
       "                            if (hiddenCells.length > 0) {\n",
       "                                this.showCells();\n",
       "                                if (this.toggleButton) this.toggleButton.innerText = \"Ocultar Código\";\n",
       "                            } else {\n",
       "                                this.hideCells();\n",
       "                                if (this.toggleButton) this.toggleButton.innerText = \"Mostrar Código\";\n",
       "                            }\n",
       "                        } catch (e) {\n",
       "                            console.warn(\"Erro ao alternar células:\", e);\n",
       "                        }\n",
       "                    }\n",
       "                };\n",
       "            }\n",
       "        }\n",
       "\n",
       "        function createToggleButton() {\n",
       "            ensureManagerExists();\n",
       "\n",
       "            if (!document.getElementById('toggleCodeButton')) {\n",
       "                let btn = document.createElement('button');\n",
       "                btn.innerText = \"Mostrar Código\";\n",
       "                btn.id = \"toggleCodeButton\";\n",
       "                btn.style.position = 'fixed';\n",
       "                btn.style.top = '10px';\n",
       "                btn.style.right = '10px';\n",
       "                btn.style.padding = '10px 20px';\n",
       "                btn.style.zIndex = '1000';\n",
       "                btn.style.backgroundColor = '#007bff';\n",
       "                btn.style.color = 'white';\n",
       "                btn.style.border = 'none';\n",
       "                btn.style.borderRadius = '5px';\n",
       "                btn.style.cursor = 'pointer';\n",
       "                btn.onclick = function() {\n",
       "                    if (window.cellVisibilityManager) {\n",
       "                        window.cellVisibilityManager.toggleCells();\n",
       "                    }\n",
       "                };\n",
       "\n",
       "                document.body.appendChild(btn);\n",
       "                window.cellVisibilityManager.toggleButton = btn;\n",
       "            }\n",
       "        }\n",
       "\n",
       "        setTimeout(() => {\n",
       "            try {\n",
       "                ensureManagerExists();\n",
       "                createToggleButton();\n",
       "            } catch (e) {\n",
       "                console.warn(\"Erro ao inicializar cellVisibilityManager:\", e);\n",
       "            }\n",
       "        }, 3000);\n",
       "\n",
       "        if (!window.cellVisibilityManager) {\n",
       "            ensureManagerExists();\n",
       "        }\n",
       "\n",
       "        // Impedir rolagem automática para o final\n",
       "        setTimeout(() => {\n",
       "            if (window) {\n",
       "                window.scrollTo({ top: 0, behavior: 'smooth' });\n",
       "            }\n",
       "        }, 500);\n",
       "    })();\n",
       "    "
      ],
      "text/plain": [
       "<IPython.core.display.Javascript object>"
      ]
     },
     "metadata": {},
     "output_type": "display_data"
    },
    {
     "data": {
      "application/javascript": [
       "window.cellVisibilityManager.hideCells();"
      ],
      "text/plain": [
       "<IPython.core.display.Javascript object>"
      ]
     },
     "metadata": {},
     "output_type": "display_data"
    }
   ],
   "source": [
    "from IPython.display import Javascript, display\n",
    "# hide-me\n",
    "display(Javascript('window.cellVisibilityManager.hideCells();'))\n",
    "\n",
    "# --- Importar as bibliotecas ---\n",
    "ipython = get_ipython()\n",
    "ipython.run_line_magic(\"run\", \"1.preparacao_bibliotecas.ipynb\")"
   ]
  },
  {
   "cell_type": "code",
   "execution_count": 9,
   "id": "6cc09559-f239-413d-9884-b88f13412b0c",
   "metadata": {},
   "outputs": [
    {
     "data": {
      "application/javascript": [
       "window.cellVisibilityManager.hideCells();"
      ],
      "text/plain": [
       "<IPython.core.display.Javascript object>"
      ]
     },
     "metadata": {},
     "output_type": "display_data"
    },
    {
     "data": {
      "application/vnd.jupyter.widget-view+json": {
       "model_id": "832e580f44504061a66310bd29773d23",
       "version_major": 2,
       "version_minor": 0
      },
      "text/plain": [
       "HTML(value=\"<b style='font-size: 18px;'>Por favor, responda às questões 11 a 14.</b><br><br>\")"
      ]
     },
     "metadata": {},
     "output_type": "display_data"
    },
    {
     "data": {
      "application/vnd.jupyter.widget-view+json": {
       "model_id": "8ddd6f943c644e0a9fe2e3ed3e9c06f6",
       "version_major": 2,
       "version_minor": 0
      },
      "text/plain": [
       "HTML(value='<b>11. Qual das seguintes afirmações é verdadeira?</b>')"
      ]
     },
     "metadata": {},
     "output_type": "display_data"
    },
    {
     "data": {
      "application/vnd.jupyter.widget-view+json": {
       "model_id": "dabae40fc4d04ba99caead2d19def86c",
       "version_major": 2,
       "version_minor": 0
      },
      "text/plain": [
       "RadioButtons(description='Escolha:', layout=Layout(margin='10px 0 20px 0', width='800px'), options=('a) O K-Me…"
      ]
     },
     "metadata": {},
     "output_type": "display_data"
    },
    {
     "data": {
      "application/vnd.jupyter.widget-view+json": {
       "model_id": "4e6bc0d579d048769f4cad6eec8606e8",
       "version_major": 2,
       "version_minor": 0
      },
      "text/plain": [
       "HTML(value='<b>12. No contexto da “cidade dos 15 minutos”, que padrão identifica relativamente à população com…"
      ]
     },
     "metadata": {},
     "output_type": "display_data"
    },
    {
     "data": {
      "application/vnd.jupyter.widget-view+json": {
       "model_id": "2054bd584ad94d498b380043e84a4c5a",
       "version_major": 2,
       "version_minor": 0
      },
      "text/plain": [
       "RadioButtons(description='Escolha:', layout=Layout(margin='10px 0 20px 0', width='800px'), options=('a) Verifi…"
      ]
     },
     "metadata": {},
     "output_type": "display_data"
    },
    {
     "data": {
      "application/vnd.jupyter.widget-view+json": {
       "model_id": "cd8d165a9175487cab6c2f29bbe1d2de",
       "version_major": 2,
       "version_minor": 0
      },
      "text/plain": [
       "HTML(value='<b>13. Como se caracterizam os edifícios mais atrativos do município do Porto, segundo o mapa de a…"
      ]
     },
     "metadata": {},
     "output_type": "display_data"
    },
    {
     "data": {
      "application/vnd.jupyter.widget-view+json": {
       "model_id": "977e6f40dfde4665b2695f1e0bc5ddc2",
       "version_major": 2,
       "version_minor": 0
      },
      "text/plain": [
       "RadioButtons(description='Escolha:', layout=Layout(margin='10px 0 20px 0', width='800px'), options=('a) Estão …"
      ]
     },
     "metadata": {},
     "output_type": "display_data"
    },
    {
     "data": {
      "application/vnd.jupyter.widget-view+json": {
       "model_id": "b3d80883fd3046a1a92b66075092fa39",
       "version_major": 2,
       "version_minor": 0
      },
      "text/plain": [
       "HTML(value='<b>14. Com base na análise da distribuição dos serviços no município do Porto, qual das seguintes …"
      ]
     },
     "metadata": {},
     "output_type": "display_data"
    },
    {
     "data": {
      "application/vnd.jupyter.widget-view+json": {
       "model_id": "9b362929495e42cca8821fd5967e570c",
       "version_major": 2,
       "version_minor": 0
      },
      "text/plain": [
       "RadioButtons(description='Escolha:', layout=Layout(margin='10px 0 20px 0', width='800px'), options=('a) Os ser…"
      ]
     },
     "metadata": {},
     "output_type": "display_data"
    },
    {
     "data": {
      "application/vnd.jupyter.widget-view+json": {
       "model_id": "6041f25b854944e683e05bd911b25719",
       "version_major": 2,
       "version_minor": 0
      },
      "text/plain": [
       "Button(button_style='info', description='Gravar respostas', style=ButtonStyle())"
      ]
     },
     "metadata": {},
     "output_type": "display_data"
    },
    {
     "data": {
      "application/vnd.jupyter.widget-view+json": {
       "model_id": "3494de230b7f4a45a900db03714d5284",
       "version_major": 2,
       "version_minor": 0
      },
      "text/plain": [
       "Output()"
      ]
     },
     "metadata": {},
     "output_type": "display_data"
    }
   ],
   "source": [
    "# hide-me\n",
    "display(Javascript('window.cellVisibilityManager.hideCells();'))\n",
    "\n",
    "import os\n",
    "import pandas as pd\n",
    "from datetime import datetime\n",
    "import ipywidgets as widgets\n",
    "from IPython.display import display, clear_output, Javascript\n",
    "\n",
    "# --- Pasta onde serão guardadas as respostas ---\n",
    "pasta_respostas = \".../respostas\"\n",
    "os.makedirs(pasta_respostas, exist_ok=True)\n",
    "\n",
    "# Questão 11\n",
    "questao_11 = widgets.HTML(value=\"<b>11. Qual das seguintes afirmações é verdadeira?</b>\")\n",
    "pergunta_11 = widgets.RadioButtons(\n",
    "    options=[\n",
    "        \"a) O K-means é usado para prever novos casos com base em dados de treino.\",\n",
    "        \"b) O XGBoost é supervisionado e identifica padrões a partir de dados de treino para análise ou previsão.\",\n",
    "        \"c) O K-means e o XGBoost são algoritmos não supervisionados e apenas agrupam dados.\"\n",
    "    ],\n",
    "    description='Escolha:',\n",
    "    layout=widgets.Layout(width='800px', margin='10px 0 20px 0'),\n",
    "    value=None,\n",
    "    style={'description_width': 'initial'}\n",
    ")\n",
    "\n",
    "# Questão 12\n",
    "questao_12 = widgets.HTML(value=\"<b>12. No contexto da “cidade dos 15 minutos”, que padrão se observa no caso da população com 65 anos ou mais?</b>\")\n",
    "pergunta_12 = widgets.RadioButtons(\n",
    "    options=[\n",
    "        \"a) Verifica-se um padrão de baixa cobertura, com poucos residentes em edifícios com acesso a todos os serviços.\",\n",
    "        \"b) Verifica-se um padrão de distribuição equilibrada, com acesso uniforme da população aos serviços.\",\n",
    "        \"c) Verifica-se que a população reside em edifícios bem servidos, o que garante acesso fácil aos serviços.\"\n",
    "    ],\n",
    "    description='Escolha:',\n",
    "    layout=widgets.Layout(width='800px', margin='10px 0 20px 0'),\n",
    "    value=None,\n",
    "    style={'description_width': 'initial'}\n",
    ")\n",
    "\n",
    "# Questão 13\n",
    "questao_13 = widgets.HTML(value=\"<b>13. Com base no índice de atratividade urbana modelado com XGBoost, qual o padrão observado para os edifícios mais atrativos?</b>\")\n",
    "pergunta_13 = widgets.RadioButtons(\n",
    "    options=[\n",
    "        \"a) Estão concentrados na área central, com elevada densidade e diversidade de serviços.\",\n",
    "        \"b) Estão distribuídos de forma semelhante por todas as freguesias do município.\",\n",
    "        \"c) Estão localizados em áreas específicas fora do centro, associadas a funções residenciais. \"\n",
    "    ],\n",
    "    description='Escolha:',\n",
    "    layout=widgets.Layout(width='800px', margin='10px 0 20px 0'),\n",
    "    value=None,\n",
    "    style={'description_width': 'initial'}\n",
    ")\n",
    "\n",
    "# Questão 14\n",
    "questao_14 = widgets.HTML(value=\"<b>14.\tConsiderando a atratividade, qual o padrão global observado no município do Porto?</b>\")\n",
    "pergunta_14 = widgets.RadioButtons(\n",
    "    options=[\n",
    "        \"a) Observa-se uma distribuição equilibrada, com níveis semelhantes de atratividade em todas as freguesias do município.\",\n",
    "        \"b) Observa-se um núcleo central forte, prolongado por eixos e áreas adjacentes, com menor atratividade na periferia.\",\n",
    "        \"c) Observa-se uma concentração relevante fora do centro, associada a alguns eixos e áreas residenciais periféricas.\"\n",
    "    ],\n",
    "    description='Escolha:',\n",
    "    layout=widgets.Layout(width='800px', margin='10px 0 20px 0'),\n",
    "    value=None,\n",
    "    style={'description_width': 'initial'}\n",
    ")\n",
    "\n",
    "# --- Botão para gravar as respostas ---\n",
    "botao_gravar = widgets.Button(description='Gravar respostas', button_style='info')\n",
    "output = widgets.Output()\n",
    "\n",
    "# --- Função para gravar as respostas ---\n",
    "def gravar_respostas(b):\n",
    "    if None in (pergunta_11.value, pergunta_12.value, pergunta_13.value, pergunta_14.value):\n",
    "        with output:\n",
    "            clear_output()\n",
    "            print(\"Por favor, responda a todas as questões antes de gravar.\")\n",
    "        return\n",
    "\n",
    "    # Recolha das respostas e data atual\n",
    "    dados = {\n",
    "        \"Questão 11\": [pergunta_11.value],\n",
    "        \"Questão 12\": [pergunta_12.value],\n",
    "        \"Questão 13\": [pergunta_13.value],\n",
    "        \"Questão 14\": [pergunta_14.value],\n",
    "        \"Data\": [datetime.now().strftime(\"%Y-%m-%d %H:%M:%S\")]\n",
    "    }\n",
    "\n",
    "    # Definir o caminho do ficheiro para guardar as respostas\n",
    "    ficheiro = os.path.join(pasta_respostas, \"respostas_insights.xlsx\")\n",
    "    df = pd.DataFrame(dados)\n",
    "    \n",
    "    # Verificar se o ficheiro já existe e guardar as novas respostas\n",
    "    if not os.path.isfile(ficheiro):\n",
    "        df.to_excel(ficheiro, index=False, engine='openpyxl')\n",
    "    else:\n",
    "        df_existente = pd.read_excel(ficheiro, engine='openpyxl')\n",
    "        df_final = pd.concat([df_existente, df], ignore_index=True)\n",
    "        df_final.to_excel(ficheiro, index=False, engine='openpyxl')\n",
    "\n",
    "     # Mensagem ao utilizador: respostas gravadas com sucesso\n",
    "    with output:\n",
    "        clear_output()\n",
    "        print(\"Respostas gravadas com sucesso. Obrigado.\")\n",
    "        pergunta_11.value = None\n",
    "        pergunta_12.value = None\n",
    "        pergunta_13.value = None\n",
    "        pergunta_14.value = None\n",
    "\n",
    "# --- Evento de clique do botão ---\n",
    "botao_gravar.on_click(gravar_respostas)\n",
    "\n",
    "# --- Apresentar instruções e questões ---\n",
    "display(widgets.HTML(\"<b style='font-size: 18px;'>Por favor, responda às questões 11 a 14.</b><br><br>\"))\n",
    "display(questao_11, pergunta_11, questao_12, pergunta_12, questao_13, pergunta_13, questao_14, pergunta_14, botao_gravar, output)"
   ]
  },
  {
   "cell_type": "markdown",
   "id": "c6c12d74-0c7d-4346-9c7a-5d3dc9cfae03",
   "metadata": {},
   "source": [
    "<div style=\"border: none; margin: 5px 0; border-top: 1px dashed #FFFFFF; border-bottom: 1px dashed #FFFFFF; height: 5px;\"></div>"
   ]
  },
  {
   "cell_type": "markdown",
   "id": "2328c48b-95a7-486c-9d7a-37338778e166",
   "metadata": {},
   "source": [
    "Seguinte: [Respostas corretas e avaliação da plataforma](9.ipynb)"
   ]
  },
  {
   "cell_type": "markdown",
   "id": "42af9078-2441-4fe0-9ad5-022d7553ba5a",
   "metadata": {},
   "source": [
    "<div style=\"border: none; margin: 5px 0; border-top: 1px dashed #FFFFFF; border-bottom: 1px dashed #FFFFFF; height: 5px;\"></div>"
   ]
  },
  {
   "cell_type": "code",
   "execution_count": null,
   "id": "89ff5f19-a9e9-4ef5-bd41-9070914619a7",
   "metadata": {},
   "outputs": [],
   "source": []
  }
 ],
 "metadata": {
  "kernelspec": {
   "display_name": "Python 3 (ipykernel)",
   "language": "python",
   "name": "python3"
  },
  "language_info": {
   "codemirror_mode": {
    "name": "ipython",
    "version": 3
   },
   "file_extension": ".py",
   "mimetype": "text/x-python",
   "name": "python",
   "nbconvert_exporter": "python",
   "pygments_lexer": "ipython3",
   "version": "3.12.2"
  }
 },
 "nbformat": 4,
 "nbformat_minor": 5
}
