{
 "cells": [
  {
   "cell_type": "markdown",
   "id": "cb386df8-9f03-4c23-949d-a3c72c758c27",
   "metadata": {},
   "source": [
    "<div style=\"border: none; margin: 5px 0; border-top: 1px dashed #FFFFFF; border-bottom: 1px dashed #FFFFFF; height: 5px;\"></div>"
   ]
  },
  {
   "cell_type": "markdown",
   "id": "3a7ee2fe-492f-499e-a9ba-f3378edf8fa4",
   "metadata": {},
   "source": [
    "<h2 style=\"color: #FFA07A;\">4. Análise e explicabilidade dos agrupamentos (<i>clusters</i>) com inteligência artificial</h2>"
   ]
  },
  {
   "cell_type": "code",
   "execution_count": 1,
   "id": "718410bf-960d-4fda-b118-32def1f2cee9",
   "metadata": {},
   "outputs": [
    {
     "data": {
      "application/javascript": [
       "window.cellVisibilityManager?.hideCells?.();"
      ],
      "text/plain": [
       "<IPython.core.display.Javascript object>"
      ]
     },
     "metadata": {},
     "output_type": "display_data"
    },
    {
     "data": {
      "application/javascript": [
       "\n",
       "    (function() {\n",
       "        function ensureManagerExists() {\n",
       "            if (!window.cellVisibilityManager) {\n",
       "                window.cellVisibilityManager = {\n",
       "                    toggleButton: null,\n",
       "\n",
       "                    hideCells: function() {\n",
       "                        try {\n",
       "                            document.querySelectorAll('.jp-Cell, .cell').forEach(cell => {\n",
       "                                let editor = cell.querySelector('.jp-InputArea-editor, .input_area');\n",
       "                                if (editor && editor.innerText.includes('# hide-me')) {\n",
       "                                    let input = cell.querySelector('.jp-InputArea, .input_area');\n",
       "                                    if (input) {\n",
       "                                        input.style.display = 'none';\n",
       "                                        cell.classList.add('hidden');\n",
       "                                    }\n",
       "                                }\n",
       "                            });\n",
       "                        } catch (e) {\n",
       "                            console.warn(\"Erro ao ocultar células:\", e);\n",
       "                        }\n",
       "                    },\n",
       "\n",
       "                    showCells: function() {\n",
       "                        try {\n",
       "                            document.querySelectorAll('.jp-Cell, .cell').forEach(cell => {\n",
       "                                if (cell.classList.contains('hidden')) {\n",
       "                                    let input = cell.querySelector('.jp-InputArea, .input_area');\n",
       "                                    if (input) {\n",
       "                                        input.style.display = '';\n",
       "                                        cell.classList.remove('hidden');\n",
       "                                    }\n",
       "                                }\n",
       "                            });\n",
       "                        } catch (e) {\n",
       "                            console.warn(\"Erro ao mostrar células:\", e);\n",
       "                        }\n",
       "                    },\n",
       "\n",
       "                    toggleCells: function() {\n",
       "                        try {\n",
       "                            let hiddenCells = document.querySelectorAll('.hidden');\n",
       "                            if (hiddenCells.length > 0) {\n",
       "                                this.showCells();\n",
       "                                if (this.toggleButton) this.toggleButton.innerText = \"Ocultar Código\";\n",
       "                            } else {\n",
       "                                this.hideCells();\n",
       "                                if (this.toggleButton) this.toggleButton.innerText = \"Mostrar Código\";\n",
       "                            }\n",
       "                        } catch (e) {\n",
       "                            console.warn(\"Erro ao alternar células:\", e);\n",
       "                        }\n",
       "                    }\n",
       "                };\n",
       "            }\n",
       "        }\n",
       "\n",
       "        function createToggleButton() {\n",
       "            ensureManagerExists();\n",
       "\n",
       "            if (!document.getElementById('toggleCodeButton')) {\n",
       "                let btn = document.createElement('button');\n",
       "                btn.innerText = \"Mostrar Código\";\n",
       "                btn.id = \"toggleCodeButton\";\n",
       "                btn.style.position = 'fixed';\n",
       "                btn.style.top = '10px';\n",
       "                btn.style.right = '10px';\n",
       "                btn.style.padding = '10px 20px';\n",
       "                btn.style.zIndex = '1000';\n",
       "                btn.style.backgroundColor = '#007bff';\n",
       "                btn.style.color = 'white';\n",
       "                btn.style.border = 'none';\n",
       "                btn.style.borderRadius = '5px';\n",
       "                btn.style.cursor = 'pointer';\n",
       "                btn.onclick = function() {\n",
       "                    if (window.cellVisibilityManager) {\n",
       "                        window.cellVisibilityManager.toggleCells();\n",
       "                    }\n",
       "                };\n",
       "\n",
       "                document.body.appendChild(btn);\n",
       "                window.cellVisibilityManager.toggleButton = btn;\n",
       "            }\n",
       "        }\n",
       "\n",
       "        setTimeout(() => {\n",
       "            try {\n",
       "                ensureManagerExists();\n",
       "                createToggleButton();\n",
       "            } catch (e) {\n",
       "                console.warn(\"Erro ao inicializar cellVisibilityManager:\", e);\n",
       "            }\n",
       "        }, 3000);\n",
       "\n",
       "        if (!window.cellVisibilityManager) {\n",
       "            ensureManagerExists();\n",
       "        }\n",
       "\n",
       "        // Impedir rolagem automática para o final\n",
       "        setTimeout(() => {\n",
       "            if (window) {\n",
       "                window.scrollTo({ top: 0, behavior: 'smooth' });\n",
       "            }\n",
       "        }, 500);\n",
       "    })();\n",
       "    "
      ],
      "text/plain": [
       "<IPython.core.display.Javascript object>"
      ]
     },
     "metadata": {},
     "output_type": "display_data"
    },
    {
     "data": {
      "application/javascript": [
       "window.cellVisibilityManager.hideCells();"
      ],
      "text/plain": [
       "<IPython.core.display.Javascript object>"
      ]
     },
     "metadata": {},
     "output_type": "display_data"
    },
    {
     "data": {
      "application/vnd.jupyter.widget-view+json": {
       "model_id": "e1d4714acf124d7f98dd7d9a7bfc3fdd",
       "version_major": 2,
       "version_minor": 0
      },
      "text/plain": [
       "HTML(value='<div></div>')"
      ]
     },
     "metadata": {},
     "output_type": "display_data"
    },
    {
     "data": {
      "application/javascript": [
       "window.cellVisibilityManager.hideCells();"
      ],
      "text/plain": [
       "<IPython.core.display.Javascript object>"
      ]
     },
     "metadata": {},
     "output_type": "display_data"
    },
    {
     "data": {
      "application/javascript": [
       "\n",
       "    (function() {\n",
       "        function ensureManagerExists() {\n",
       "            if (!window.cellVisibilityManager) {\n",
       "                window.cellVisibilityManager = {\n",
       "                    toggleButton: null,\n",
       "\n",
       "                    hideCells: function() {\n",
       "                        try {\n",
       "                            document.querySelectorAll('.jp-Cell, .cell').forEach(cell => {\n",
       "                                let editor = cell.querySelector('.jp-InputArea-editor, .input_area');\n",
       "                                if (editor && editor.innerText.includes('# hide-me')) {\n",
       "                                    let input = cell.querySelector('.jp-InputArea, .input_area');\n",
       "                                    if (input) {\n",
       "                                        input.style.display = 'none';\n",
       "                                        cell.classList.add('hidden');\n",
       "                                    }\n",
       "                                }\n",
       "                            });\n",
       "                        } catch (e) {\n",
       "                            console.warn(\"Erro ao ocultar células:\", e);\n",
       "                        }\n",
       "                    },\n",
       "\n",
       "                    showCells: function() {\n",
       "                        try {\n",
       "                            document.querySelectorAll('.jp-Cell, .cell').forEach(cell => {\n",
       "                                if (cell.classList.contains('hidden')) {\n",
       "                                    let input = cell.querySelector('.jp-InputArea, .input_area');\n",
       "                                    if (input) {\n",
       "                                        input.style.display = '';\n",
       "                                        cell.classList.remove('hidden');\n",
       "                                    }\n",
       "                                }\n",
       "                            });\n",
       "                        } catch (e) {\n",
       "                            console.warn(\"Erro ao mostrar células:\", e);\n",
       "                        }\n",
       "                    },\n",
       "\n",
       "                    toggleCells: function() {\n",
       "                        try {\n",
       "                            let hiddenCells = document.querySelectorAll('.hidden');\n",
       "                            if (hiddenCells.length > 0) {\n",
       "                                this.showCells();\n",
       "                                if (this.toggleButton) this.toggleButton.innerText = \"Ocultar Código\";\n",
       "                            } else {\n",
       "                                this.hideCells();\n",
       "                                if (this.toggleButton) this.toggleButton.innerText = \"Mostrar Código\";\n",
       "                            }\n",
       "                        } catch (e) {\n",
       "                            console.warn(\"Erro ao alternar células:\", e);\n",
       "                        }\n",
       "                    }\n",
       "                };\n",
       "            }\n",
       "        }\n",
       "\n",
       "        function createToggleButton() {\n",
       "            ensureManagerExists();\n",
       "\n",
       "            if (!document.getElementById('toggleCodeButton')) {\n",
       "                let btn = document.createElement('button');\n",
       "                btn.innerText = \"Mostrar Código\";\n",
       "                btn.id = \"toggleCodeButton\";\n",
       "                btn.style.position = 'fixed';\n",
       "                btn.style.top = '10px';\n",
       "                btn.style.right = '10px';\n",
       "                btn.style.padding = '10px 20px';\n",
       "                btn.style.zIndex = '1000';\n",
       "                btn.style.backgroundColor = '#007bff';\n",
       "                btn.style.color = 'white';\n",
       "                btn.style.border = 'none';\n",
       "                btn.style.borderRadius = '5px';\n",
       "                btn.style.cursor = 'pointer';\n",
       "                btn.onclick = function() {\n",
       "                    if (window.cellVisibilityManager) {\n",
       "                        window.cellVisibilityManager.toggleCells();\n",
       "                    }\n",
       "                };\n",
       "\n",
       "                document.body.appendChild(btn);\n",
       "                window.cellVisibilityManager.toggleButton = btn;\n",
       "            }\n",
       "        }\n",
       "\n",
       "        setTimeout(() => {\n",
       "            try {\n",
       "                ensureManagerExists();\n",
       "                createToggleButton();\n",
       "            } catch (e) {\n",
       "                console.warn(\"Erro ao inicializar cellVisibilityManager:\", e);\n",
       "            }\n",
       "        }, 3000);\n",
       "\n",
       "        if (!window.cellVisibilityManager) {\n",
       "            ensureManagerExists();\n",
       "        }\n",
       "\n",
       "        // Impedir rolagem automática para o final\n",
       "        setTimeout(() => {\n",
       "            if (window) {\n",
       "                window.scrollTo({ top: 0, behavior: 'smooth' });\n",
       "            }\n",
       "        }, 500);\n",
       "    })();\n",
       "    "
      ],
      "text/plain": [
       "<IPython.core.display.Javascript object>"
      ]
     },
     "metadata": {},
     "output_type": "display_data"
    },
    {
     "data": {
      "application/javascript": [
       "window.cellVisibilityManager.hideCells();"
      ],
      "text/plain": [
       "<IPython.core.display.Javascript object>"
      ]
     },
     "metadata": {},
     "output_type": "display_data"
    },
    {
     "data": {
      "application/javascript": [
       "window.cellVisibilityManager.hideCells();"
      ],
      "text/plain": [
       "<IPython.core.display.Javascript object>"
      ]
     },
     "metadata": {},
     "output_type": "display_data"
    },
    {
     "data": {
      "text/html": [
       "\n",
       "        <iframe\n",
       "            width=\"100%\"\n",
       "            height=\"650\"\n",
       "            src=\"http://127.0.0.1:8673/\"\n",
       "            frameborder=\"0\"\n",
       "            allowfullscreen\n",
       "            \n",
       "        ></iframe>\n",
       "        "
      ],
      "text/plain": [
       "<IPython.lib.display.IFrame at 0x30a3c2ff0>"
      ]
     },
     "metadata": {},
     "output_type": "display_data"
    },
    {
     "name": "stdout",
     "output_type": "stream",
     "text": [
      "\u001b[92m[INFO] Análise concluída. Você pode prosseguir.\u001b[0m\n"
     ]
    },
    {
     "data": {
      "application/vnd.jupyter.widget-view+json": {
       "model_id": "b113bdb1430f46da8f7a4e02865ebaee",
       "version_major": 2,
       "version_minor": 0
      },
      "text/plain": [
       "HTML(value='<div></div>')"
      ]
     },
     "metadata": {},
     "output_type": "display_data"
    },
    {
     "data": {
      "application/javascript": [
       "window.cellVisibilityManager.hideCells();"
      ],
      "text/plain": [
       "<IPython.core.display.Javascript object>"
      ]
     },
     "metadata": {},
     "output_type": "display_data"
    },
    {
     "data": {
      "application/vnd.jupyter.widget-view+json": {
       "model_id": "afe52e411abe4029990bb8fbaac6c518",
       "version_major": 2,
       "version_minor": 0
      },
      "text/plain": [
       "HTML(value='\\n<b style=\"font-size: 18px;\">Por favor, responda à questão:</b><br><br>\\n<b style=\"font-size: 16p…"
      ]
     },
     "metadata": {},
     "output_type": "display_data"
    },
    {
     "data": {
      "application/vnd.jupyter.widget-view+json": {
       "model_id": "3527c60326d84a95bf6f9100fcd84960",
       "version_major": 2,
       "version_minor": 0
      },
      "text/plain": [
       "RadioButtons(description='Resposta:', layout=Layout(width='600px'), options=('a) Bancos.', 'b) Número total de…"
      ]
     },
     "metadata": {},
     "output_type": "display_data"
    },
    {
     "data": {
      "application/vnd.jupyter.widget-view+json": {
       "model_id": "43cca4139cad44dead8e37d09c2cd43a",
       "version_major": 2,
       "version_minor": 0
      },
      "text/plain": [
       "Button(button_style='info', description='Gravar resposta', style=ButtonStyle())"
      ]
     },
     "metadata": {},
     "output_type": "display_data"
    },
    {
     "data": {
      "application/vnd.jupyter.widget-view+json": {
       "model_id": "89a16e1235fc4390a6849c1bf21edb01",
       "version_major": 2,
       "version_minor": 0
      },
      "text/plain": [
       "Output()"
      ]
     },
     "metadata": {},
     "output_type": "display_data"
    }
   ],
   "source": [
    "# hide-me\n",
    "from IPython.display import Javascript, display\n",
    "display(Javascript('window.cellVisibilityManager?.hideCells?.();'))\n",
    "\n",
    "from IPython import get_ipython\n",
    "import pickle\n",
    "\n",
    "ipython = get_ipython()\n",
    "\n",
    "# --- Importar bibliotecas ---\n",
    "ipython.run_line_magic(\"run\", \"1.preparacao_bibliotecas.ipynb\")\n",
    "\n",
    "# --- Executar o notebook base ---\n",
    "ipython.run_line_magic(\"run\", \"4.explicabilidade_agrupamentos_base.ipynb\")"
   ]
  },
  {
   "cell_type": "markdown",
   "id": "27df78f4-c64c-480e-8854-72a796e487ab",
   "metadata": {},
   "source": [
    "<div style=\"border: none; margin: 5px 0; border-top: 1px dashed #FFFFFF; border-bottom: 1px dashed #FFFFFF; height: 5px;\"></div>"
   ]
  },
  {
   "cell_type": "markdown",
   "id": "73920bd4-5f50-40e7-bc3d-48e2250f5a82",
   "metadata": {},
   "source": [
    "Seguinte: [Acesso a serviços no contexto cidade dos 15 minutos](5.15min_cidade.ipynb)"
   ]
  },
  {
   "cell_type": "markdown",
   "id": "15cfd635-97af-40fc-bec8-ab06c4bb49c0",
   "metadata": {},
   "source": [
    "<div style=\"border: none; margin: 5px 0; border-top: 1px dashed #FFFFFF; border-bottom: 1px dashed #FFFFFF; height: 5px;\"></div>"
   ]
  }
 ],
 "metadata": {
  "kernelspec": {
   "display_name": "Python 3 (ipykernel)",
   "language": "python",
   "name": "python3"
  },
  "language_info": {
   "codemirror_mode": {
    "name": "ipython",
    "version": 3
   },
   "file_extension": ".py",
   "mimetype": "text/x-python",
   "name": "python",
   "nbconvert_exporter": "python",
   "pygments_lexer": "ipython3",
   "version": "3.12.2"
  }
 },
 "nbformat": 4,
 "nbformat_minor": 5
}
