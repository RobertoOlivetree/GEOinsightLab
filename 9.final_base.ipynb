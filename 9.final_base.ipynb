{
 "cells": [
  {
   "cell_type": "markdown",
   "id": "e47de12e-5d52-4948-8423-ef20a5219259",
   "metadata": {},
   "source": [
    "<div style=\"border: none; margin: 5px 0; border-top: 1px dashed #FFFFFF; border-bottom: 1px dashed #FFFFFF; height: 5px;\"></div>"
   ]
  },
  {
   "cell_type": "markdown",
   "id": "5df94cc3-1a51-49db-a099-6d9a5f4ab61a",
   "metadata": {},
   "source": [
    "<h2 style=\"color: #FFA07A;\">9. Respostas e preenchimento do formulário de usabilidade</h2>"
   ]
  },
  {
   "cell_type": "code",
   "execution_count": null,
   "id": "b3c83ffe-8c96-47a8-8dd8-4a1d9a124f59",
   "metadata": {},
   "outputs": [],
   "source": [
    "from IPython.display import Javascript, display\n",
    "# hide-me\n",
    "display(Javascript('window.cellVisibilityManager.hideCells();'))\n",
    "\n",
    "# --- Executar as bibliotecas ---\n",
    "ipython = get_ipython()\n",
    "ipython.run_line_magic(\"run\", \"1.preparacao_bibliotecas.ipynb\")"
   ]
  },
  {
   "cell_type": "code",
   "execution_count": 8,
   "id": "2728362e-ded7-4e65-9550-689b274b32d6",
   "metadata": {},
   "outputs": [
    {
     "data": {
      "application/vnd.jupyter.widget-view+json": {
       "model_id": "2ad1a09f22064437ae36d0a278a6a275",
       "version_major": 2,
       "version_minor": 0
      },
      "text/plain": [
       "HTML(value='<div></div>')"
      ]
     },
     "metadata": {},
     "output_type": "display_data"
    }
   ],
   "source": [
    "#\n",
    "import ipywidgets as widgets\n",
    "import time\n",
    "\n",
    "# --- Criar um widget HTML para exibir o efeito de escrita ---\n",
    "output = widgets.HTML(value=\"<div></div>\")\n",
    "display(output)\n",
    "\n",
    "# --- Texto formatado para o efeito de escrita ---\n",
    "texto = \"\"\"\n",
    "<div> \n",
    "    <p><b style=\"color: #FFA500; font-size: 18px;\">Respostas corretas das questões:</b></p>\n",
    "    <p>🔸 1. a) K-means.</p>\n",
    "    <p>🔸 2. a) O K-means apresentou autocorrelação espacial significativa, com declive próximo de 1.</p>\n",
    "    <p>🔸 3. b) Número total de serviços próximos.</p> \n",
    "    <p>🔸 4. c) Hospital e centro de saúde.</p> \n",
    "    <p>🔸 5. c) Farmácia.</p>\n",
    "    <p>🔸 6. c) Distância média os serviços (log).</p>\n",
    "    <p>🔸 7. b) Falsa – há pouca oferta de serviços.</p>\n",
    "    <p>🔸 8. c) Falsa – o modelo também considera os serviços.</p>\n",
    "    <p>🔸 9. a) A presença de um destes serviços está associada a maior presença dos outros.</p>\n",
    "    <p>🔸 10. a) Os edifícios com mais população tendem a ter menor oferta de serviços.</p>\n",
    "    <p>🔸 11. b) O XGBoost é supervisionado e identifica padrões a partir de dados de treino para análise ou previsão.</p>\n",
    "    <p>🔸 12. a) Verifica-se um padrão de baixa cobertura, com poucos residentes em edifícios com acesso a todos os serviços</p>\n",
    "    <p>🔸 13. a) Estão concentrados na área central, com elevada densidade e diversidade de serviços</p>\n",
    "    <p>🔸 14. b) Observa-se um núcleo central forte, prolongado por eixos e áreas adjacentes,com menor atratividade na periferia\n",
    "</p>\n",
    "</div>\n",
    "\"\"\"\n",
    "\n",
    "# --- Criar o início do HTML para aplicar formatação visual ---\n",
    "texto_html = \"\"\"\n",
    "<div style=\"background-color: #FFFFFF; color: #333333; padding: 15px; \n",
    "            border-left: 5px solid #FFA500; font-family: Arial, sans-serif; \n",
    "            text-align: justify; font-size: 16px; line-height: 1.6;\">\n",
    "\"\"\"\n",
    "for palavra in texto.split():\n",
    "    texto_html += palavra + \" \"\n",
    "    output.value = texto_html + \"</div>\"  \n",
    "    time.sleep(0.10)  # Ajustar velocidade do efeito\n",
    "\n",
    "#--- Garantir que todo o texto é mostrado após o efeito de escrita ---\n",
    "output.value = texto_html + \"</div>\""
   ]
  },
  {
   "cell_type": "markdown",
   "id": "c6c12d74-0c7d-4346-9c7a-5d3dc9cfae03",
   "metadata": {},
   "source": [
    "<div style=\"border: none; margin: 5px 0; border-top: 1px dashed #FFFFFF; border-bottom: 1px dashed #FFFFFF; height: 5px;\"></div>"
   ]
  },
  {
   "cell_type": "markdown",
   "id": "08557050-e3a2-4ba7-bf75-799b9b8032e1",
   "metadata": {},
   "source": [
    "<div style=\"display: flex; justify-content: center; align-items: center; height: auto; min-height: 100px; background-color: #000000; color: #FFFFFF; padding: 15px; border-left: 5px solid #87CEEB; border-right: 5px solid #87CEEB; font-family: Arial, sans-serif; text-align: center;\">\n",
    "    <p style=\"font-size: 18px; font-weight: bold; color: #FFFFFF; margin: 0; max-width: 80%;\">\n",
    "        A tarefa foi concluída. Gostaríamos de conhecer a sua opinião sobre a plataforma.\n",
    "        Por favor, avalie a usabilidade da plataforma preenchendo este \n",
    "        <a href=\"https://docs.google.com/forms/d/e/1FAIpQLScTwxi5dUhnlH3K6liRubWRI_PtXdxlvGq7PsNDHKH3b-GfGA/viewform?usp=dialog\" target=\"_blank\" style=\"font-size: 22px; font-weight: bold; color: #87CEEB; text-decoration: none;\">\n",
    "            formulário\n",
    "        </a>. Obrigado!\n",
    "    </p>\n",
    "</div>"
   ]
  },
  {
   "cell_type": "markdown",
   "id": "42af9078-2441-4fe0-9ad5-022d7553ba5a",
   "metadata": {},
   "source": [
    "<div style=\"border: none; margin: 5px 0; border-top: 1px dashed #FFFFFF; border-bottom: 1px dashed #FFFFFF; height: 5px;\"></div>"
   ]
  },
  {
   "cell_type": "markdown",
   "id": "4c0b06eb-4f8e-4dfd-b0b8-70c86802546a",
   "metadata": {},
   "source": [
    "<p style=\"font-size: 78px; font-weight: bold; color: #FFFFFF; text-align: center;\">\n",
    "        FIM\n",
    "    </p>"
   ]
  },
  {
   "cell_type": "markdown",
   "id": "72161eb7-7fe8-4e71-9033-9bcc43d63c3c",
   "metadata": {},
   "source": [
    "<div style=\"border: none; margin: 5px 0; border-top: 1px dashed #FFFFFF; border-bottom: 1px dashed #FFFFFF; height: 5px;\"></div>"
   ]
  },
  {
   "cell_type": "code",
   "execution_count": null,
   "id": "f199200a-651f-4b2f-af4f-34e2d8bd4018",
   "metadata": {},
   "outputs": [],
   "source": []
  }
 ],
 "metadata": {
  "kernelspec": {
   "display_name": "Python 3 (ipykernel)",
   "language": "python",
   "name": "python3"
  },
  "language_info": {
   "codemirror_mode": {
    "name": "ipython",
    "version": 3
   },
   "file_extension": ".py",
   "mimetype": "text/x-python",
   "name": "python",
   "nbconvert_exporter": "python",
   "pygments_lexer": "ipython3",
   "version": "3.12.2"
  }
 },
 "nbformat": 4,
 "nbformat_minor": 5
}
