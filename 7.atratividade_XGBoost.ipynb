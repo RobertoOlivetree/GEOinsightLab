{
 "cells": [
  {
   "cell_type": "markdown",
   "id": "e47de12e-5d52-4948-8423-ef20a5219259",
   "metadata": {},
   "source": [
    "<div style=\"border: none; margin: 5px 0; border-top: 1px dashed #FFFFFF; border-bottom: 1px dashed #FFFFFF; height: 5px;\"></div>"
   ]
  },
  {
   "cell_type": "markdown",
   "id": "93549cad-9592-483e-aba5-577657f2bc5c",
   "metadata": {},
   "source": [
    "<h2 style=\"color: #FFA07A;\">7. Aplicação do modelo XGBoost</h2>"
   ]
  },
  {
   "cell_type": "code",
   "execution_count": 3,
   "id": "deb6a5b3-f45c-46f7-941b-4b6958380083",
   "metadata": {},
   "outputs": [
    {
     "data": {
      "application/javascript": [
       "window.cellVisibilityManager?.hideCells?.();"
      ],
      "text/plain": [
       "<IPython.core.display.Javascript object>"
      ]
     },
     "metadata": {},
     "output_type": "display_data"
    },
    {
     "data": {
      "application/javascript": [
       "\n",
       "    (function() {\n",
       "        function ensureManagerExists() {\n",
       "            if (!window.cellVisibilityManager) {\n",
       "                window.cellVisibilityManager = {\n",
       "                    toggleButton: null,\n",
       "\n",
       "                    hideCells: function() {\n",
       "                        try {\n",
       "                            document.querySelectorAll('.jp-Cell, .cell').forEach(cell => {\n",
       "                                let editor = cell.querySelector('.jp-InputArea-editor, .input_area');\n",
       "                                if (editor && editor.innerText.includes('# hide-me')) {\n",
       "                                    let input = cell.querySelector('.jp-InputArea, .input_area');\n",
       "                                    if (input) {\n",
       "                                        input.style.display = 'none';\n",
       "                                        cell.classList.add('hidden');\n",
       "                                    }\n",
       "                                }\n",
       "                            });\n",
       "                        } catch (e) {\n",
       "                            console.warn(\"Erro ao ocultar células:\", e);\n",
       "                        }\n",
       "                    },\n",
       "\n",
       "                    showCells: function() {\n",
       "                        try {\n",
       "                            document.querySelectorAll('.jp-Cell, .cell').forEach(cell => {\n",
       "                                if (cell.classList.contains('hidden')) {\n",
       "                                    let input = cell.querySelector('.jp-InputArea, .input_area');\n",
       "                                    if (input) {\n",
       "                                        input.style.display = '';\n",
       "                                        cell.classList.remove('hidden');\n",
       "                                    }\n",
       "                                }\n",
       "                            });\n",
       "                        } catch (e) {\n",
       "                            console.warn(\"Erro ao mostrar células:\", e);\n",
       "                        }\n",
       "                    },\n",
       "\n",
       "                    toggleCells: function() {\n",
       "                        try {\n",
       "                            let hiddenCells = document.querySelectorAll('.hidden');\n",
       "                            if (hiddenCells.length > 0) {\n",
       "                                this.showCells();\n",
       "                                if (this.toggleButton) this.toggleButton.innerText = \"Ocultar Código\";\n",
       "                            } else {\n",
       "                                this.hideCells();\n",
       "                                if (this.toggleButton) this.toggleButton.innerText = \"Mostrar Código\";\n",
       "                            }\n",
       "                        } catch (e) {\n",
       "                            console.warn(\"Erro ao alternar células:\", e);\n",
       "                        }\n",
       "                    }\n",
       "                };\n",
       "            }\n",
       "        }\n",
       "\n",
       "        function createToggleButton() {\n",
       "            ensureManagerExists();\n",
       "\n",
       "            if (!document.getElementById('toggleCodeButton')) {\n",
       "                let btn = document.createElement('button');\n",
       "                btn.innerText = \"Mostrar Código\";\n",
       "                btn.id = \"toggleCodeButton\";\n",
       "                btn.style.position = 'fixed';\n",
       "                btn.style.top = '10px';\n",
       "                btn.style.right = '10px';\n",
       "                btn.style.padding = '10px 20px';\n",
       "                btn.style.zIndex = '1000';\n",
       "                btn.style.backgroundColor = '#007bff';\n",
       "                btn.style.color = 'white';\n",
       "                btn.style.border = 'none';\n",
       "                btn.style.borderRadius = '5px';\n",
       "                btn.style.cursor = 'pointer';\n",
       "                btn.onclick = function() {\n",
       "                    if (window.cellVisibilityManager) {\n",
       "                        window.cellVisibilityManager.toggleCells();\n",
       "                    }\n",
       "                };\n",
       "\n",
       "                document.body.appendChild(btn);\n",
       "                window.cellVisibilityManager.toggleButton = btn;\n",
       "            }\n",
       "        }\n",
       "\n",
       "        setTimeout(() => {\n",
       "            try {\n",
       "                ensureManagerExists();\n",
       "                createToggleButton();\n",
       "            } catch (e) {\n",
       "                console.warn(\"Erro ao inicializar cellVisibilityManager:\", e);\n",
       "            }\n",
       "        }, 3000);\n",
       "\n",
       "        if (!window.cellVisibilityManager) {\n",
       "            ensureManagerExists();\n",
       "        }\n",
       "\n",
       "        // Impedir rolagem automática para o final\n",
       "        setTimeout(() => {\n",
       "            if (window) {\n",
       "                window.scrollTo({ top: 0, behavior: 'smooth' });\n",
       "            }\n",
       "        }, 500);\n",
       "    })();\n",
       "    "
      ],
      "text/plain": [
       "<IPython.core.display.Javascript object>"
      ]
     },
     "metadata": {},
     "output_type": "display_data"
    },
    {
     "data": {
      "application/javascript": [
       "window.cellVisibilityManager.hideCells();"
      ],
      "text/plain": [
       "<IPython.core.display.Javascript object>"
      ]
     },
     "metadata": {},
     "output_type": "display_data"
    },
    {
     "data": {
      "application/vnd.jupyter.widget-view+json": {
       "model_id": "c8a5960b91e74fbe90447722659fe1c8",
       "version_major": 2,
       "version_minor": 0
      },
      "text/plain": [
       "HTML(value='<div></div>')"
      ]
     },
     "metadata": {},
     "output_type": "display_data"
    },
    {
     "data": {
      "application/javascript": [
       "window.cellVisibilityManager.hideCells();"
      ],
      "text/plain": [
       "<IPython.core.display.Javascript object>"
      ]
     },
     "metadata": {},
     "output_type": "display_data"
    },
    {
     "data": {
      "application/javascript": [
       "\n",
       "    (function() {\n",
       "        function ensureManagerExists() {\n",
       "            if (!window.cellVisibilityManager) {\n",
       "                window.cellVisibilityManager = {\n",
       "                    toggleButton: null,\n",
       "\n",
       "                    hideCells: function() {\n",
       "                        try {\n",
       "                            document.querySelectorAll('.jp-Cell, .cell').forEach(cell => {\n",
       "                                let editor = cell.querySelector('.jp-InputArea-editor, .input_area');\n",
       "                                if (editor && editor.innerText.includes('# hide-me')) {\n",
       "                                    let input = cell.querySelector('.jp-InputArea, .input_area');\n",
       "                                    if (input) {\n",
       "                                        input.style.display = 'none';\n",
       "                                        cell.classList.add('hidden');\n",
       "                                    }\n",
       "                                }\n",
       "                            });\n",
       "                        } catch (e) {\n",
       "                            console.warn(\"Erro ao ocultar células:\", e);\n",
       "                        }\n",
       "                    },\n",
       "\n",
       "                    showCells: function() {\n",
       "                        try {\n",
       "                            document.querySelectorAll('.jp-Cell, .cell').forEach(cell => {\n",
       "                                if (cell.classList.contains('hidden')) {\n",
       "                                    let input = cell.querySelector('.jp-InputArea, .input_area');\n",
       "                                    if (input) {\n",
       "                                        input.style.display = '';\n",
       "                                        cell.classList.remove('hidden');\n",
       "                                    }\n",
       "                                }\n",
       "                            });\n",
       "                        } catch (e) {\n",
       "                            console.warn(\"Erro ao mostrar células:\", e);\n",
       "                        }\n",
       "                    },\n",
       "\n",
       "                    toggleCells: function() {\n",
       "                        try {\n",
       "                            let hiddenCells = document.querySelectorAll('.hidden');\n",
       "                            if (hiddenCells.length > 0) {\n",
       "                                this.showCells();\n",
       "                                if (this.toggleButton) this.toggleButton.innerText = \"Ocultar Código\";\n",
       "                            } else {\n",
       "                                this.hideCells();\n",
       "                                if (this.toggleButton) this.toggleButton.innerText = \"Mostrar Código\";\n",
       "                            }\n",
       "                        } catch (e) {\n",
       "                            console.warn(\"Erro ao alternar células:\", e);\n",
       "                        }\n",
       "                    }\n",
       "                };\n",
       "            }\n",
       "        }\n",
       "\n",
       "        function createToggleButton() {\n",
       "            ensureManagerExists();\n",
       "\n",
       "            if (!document.getElementById('toggleCodeButton')) {\n",
       "                let btn = document.createElement('button');\n",
       "                btn.innerText = \"Mostrar Código\";\n",
       "                btn.id = \"toggleCodeButton\";\n",
       "                btn.style.position = 'fixed';\n",
       "                btn.style.top = '10px';\n",
       "                btn.style.right = '10px';\n",
       "                btn.style.padding = '10px 20px';\n",
       "                btn.style.zIndex = '1000';\n",
       "                btn.style.backgroundColor = '#007bff';\n",
       "                btn.style.color = 'white';\n",
       "                btn.style.border = 'none';\n",
       "                btn.style.borderRadius = '5px';\n",
       "                btn.style.cursor = 'pointer';\n",
       "                btn.onclick = function() {\n",
       "                    if (window.cellVisibilityManager) {\n",
       "                        window.cellVisibilityManager.toggleCells();\n",
       "                    }\n",
       "                };\n",
       "\n",
       "                document.body.appendChild(btn);\n",
       "                window.cellVisibilityManager.toggleButton = btn;\n",
       "            }\n",
       "        }\n",
       "\n",
       "        setTimeout(() => {\n",
       "            try {\n",
       "                ensureManagerExists();\n",
       "                createToggleButton();\n",
       "            } catch (e) {\n",
       "                console.warn(\"Erro ao inicializar cellVisibilityManager:\", e);\n",
       "            }\n",
       "        }, 3000);\n",
       "\n",
       "        if (!window.cellVisibilityManager) {\n",
       "            ensureManagerExists();\n",
       "        }\n",
       "\n",
       "        // Impedir rolagem automática para o final\n",
       "        setTimeout(() => {\n",
       "            if (window) {\n",
       "                window.scrollTo({ top: 0, behavior: 'smooth' });\n",
       "            }\n",
       "        }, 500);\n",
       "    })();\n",
       "    "
      ],
      "text/plain": [
       "<IPython.core.display.Javascript object>"
      ]
     },
     "metadata": {},
     "output_type": "display_data"
    },
    {
     "data": {
      "application/javascript": [
       "window.cellVisibilityManager.hideCells();"
      ],
      "text/plain": [
       "<IPython.core.display.Javascript object>"
      ]
     },
     "metadata": {},
     "output_type": "display_data"
    },
    {
     "data": {
      "application/javascript": [
       "window.cellVisibilityManager.hideCells();"
      ],
      "text/plain": [
       "<IPython.core.display.Javascript object>"
      ]
     },
     "metadata": {},
     "output_type": "display_data"
    },
    {
     "name": "stdout",
     "output_type": "stream",
     "text": [
      "Atratividade Moran's I: 0.9573731132238062\n",
      "p-value (simulação): 0.001\n",
      "Agentes Moran's I: 0.7343335038876384\n",
      "p-value (simulação): 0.001\n",
      "Soma total dos agentes após normalização: 22000\n",
      "Resíduos (KNN) Moran's I: 0.021131541386164587\n",
      "p-value (simulação): 0.001\n",
      "Resíduos (DistanceBand) Moran's I: 0.0007963443834120592\n",
      "p-value (simulação): 0.007\n",
      "Limites das classes (Natural Breaks): [1.94122476 2.3588031  2.68629528]\n",
      "Dados calculados com sucesso, exibindo tabela, painel e gráficos...                                 \n",
      "\n",
      "### Métricas do Modelo XGBoost (Regressão) ###\n",
      "R²: 0.9425\n",
      "RMSE: 0.0342\n",
      "MAE: 0.0055\n",
      "RMSLE: 0.0242\n",
      "MedAPE (%): 0.0566\n",
      "Bias: -0.0002\n",
      "CVRMSE (%): 3.4877\n"
     ]
    },
    {
     "data": {
      "text/html": [
       "\n",
       "        <iframe\n",
       "            width=\"100%\"\n",
       "            height=\"650\"\n",
       "            src=\"http://127.0.0.1:8174/\"\n",
       "            frameborder=\"0\"\n",
       "            allowfullscreen\n",
       "            \n",
       "        ></iframe>\n",
       "        "
      ],
      "text/plain": [
       "<IPython.lib.display.IFrame at 0x31c41a990>"
      ]
     },
     "metadata": {},
     "output_type": "display_data"
    },
    {
     "name": "stdout",
     "output_type": "stream",
     "text": [
      "\u001b[92m[INFO] Após análise, pode continuar.\u001b[0m\n"
     ]
    },
    {
     "data": {
      "application/vnd.jupyter.widget-view+json": {
       "model_id": "c5d7ee0e3d924ec79c4570a24059eeae",
       "version_major": 2,
       "version_minor": 0
      },
      "text/plain": [
       "HTML(value='<div></div>')"
      ]
     },
     "metadata": {},
     "output_type": "display_data"
    },
    {
     "data": {
      "application/vnd.jupyter.widget-view+json": {
       "model_id": "40bc583f516f4c27b0f720b309b8003c",
       "version_major": 2,
       "version_minor": 0
      },
      "text/plain": [
       "HTML(value='\\n<b style=\"font-size: 18px;\">Por favor, leia a explicação e responda às questões.</b><br><br>\\nO …"
      ]
     },
     "metadata": {},
     "output_type": "display_data"
    },
    {
     "data": {
      "application/vnd.jupyter.widget-view+json": {
       "model_id": "eb7be00856b54a4fba3b4f3ca1353d9a",
       "version_major": 2,
       "version_minor": 0
      },
      "text/plain": [
       "HTML(value=\"<b style='font-size: 16px;'>6. Qual é a variável que mais influencia o modelo, seja com impacto po…"
      ]
     },
     "metadata": {},
     "output_type": "display_data"
    },
    {
     "data": {
      "application/vnd.jupyter.widget-view+json": {
       "model_id": "22f56bd519234259ac20602614e09c2e",
       "version_major": 2,
       "version_minor": 0
      },
      "text/plain": [
       "RadioButtons(layout=Layout(width='80%'), options=('a) População com 65 anos ou + (log).', 'b) Farmácia.', 'c) …"
      ]
     },
     "metadata": {},
     "output_type": "display_data"
    },
    {
     "data": {
      "application/vnd.jupyter.widget-view+json": {
       "model_id": "31b3b78ca7e64c99a8ba0e773a03624a",
       "version_major": 2,
       "version_minor": 0
      },
      "text/plain": [
       "HTML(value='<b style=\\'font-size: 16px;\\'>7. A afirmação é verdadeira ou falsa? </b><br><i>\"Na área oriental d…"
      ]
     },
     "metadata": {},
     "output_type": "display_data"
    },
    {
     "data": {
      "application/vnd.jupyter.widget-view+json": {
       "model_id": "2cb358cea7e440689a9ad1782fef2429",
       "version_major": 2,
       "version_minor": 0
      },
      "text/plain": [
       "RadioButtons(layout=Layout(width='80%'), options=('a) Verdadeira – há boa oferta de serviços.', 'b) Falsa – há…"
      ]
     },
     "metadata": {},
     "output_type": "display_data"
    },
    {
     "data": {
      "application/vnd.jupyter.widget-view+json": {
       "model_id": "eacfce031ba5468d96096188a7f28fac",
       "version_major": 2,
       "version_minor": 0
      },
      "text/plain": [
       "HTML(value='<b style=\\'font-size: 16px;\\'>8. A afirmação é verdadeira ou falsa? </b><br><i>\"A atratividade de …"
      ]
     },
     "metadata": {},
     "output_type": "display_data"
    },
    {
     "data": {
      "application/vnd.jupyter.widget-view+json": {
       "model_id": "99d415160fe04bcc9a7250f965d1858b",
       "version_major": 2,
       "version_minor": 0
      },
      "text/plain": [
       "RadioButtons(layout=Layout(width='80%'), options=('a) Verdadeira – o modelo considera apenas uma variável.', '…"
      ]
     },
     "metadata": {},
     "output_type": "display_data"
    },
    {
     "data": {
      "application/vnd.jupyter.widget-view+json": {
       "model_id": "4c9ffa4932494b18a567892963987a8a",
       "version_major": 2,
       "version_minor": 0
      },
      "text/plain": [
       "Button(button_style='info', description='Gravar resposta', style=ButtonStyle())"
      ]
     },
     "metadata": {},
     "output_type": "display_data"
    },
    {
     "data": {
      "application/vnd.jupyter.widget-view+json": {
       "model_id": "e92d9e4bb5b04e7d8a24030f7294137f",
       "version_major": 2,
       "version_minor": 0
      },
      "text/plain": [
       "Output()"
      ]
     },
     "metadata": {},
     "output_type": "display_data"
    },
    {
     "data": {
      "text/html": [
       "<h2 style=\"color: #FFA07A;\">7.1. Estatísticas do modelo XGBoost</h2>"
      ],
      "text/plain": [
       "<IPython.core.display.HTML object>"
      ]
     },
     "metadata": {},
     "output_type": "display_data"
    },
    {
     "data": {
      "application/vnd.jupyter.widget-view+json": {
       "model_id": "4359878a2d1a486dbe5846c89f8d9f6a",
       "version_major": 2,
       "version_minor": 0
      },
      "text/plain": [
       "HTML(value='<div></div>')"
      ]
     },
     "metadata": {},
     "output_type": "display_data"
    },
    {
     "data": {
      "application/javascript": [
       "window.cellVisibilityManager.hideCells();"
      ],
      "text/plain": [
       "<IPython.core.display.Javascript object>"
      ]
     },
     "metadata": {},
     "output_type": "display_data"
    },
    {
     "data": {
      "text/html": [
       "\n",
       "        <iframe\n",
       "            width=\"100%\"\n",
       "            height=\"650\"\n",
       "            src=\"http://127.0.0.1:8342/\"\n",
       "            frameborder=\"0\"\n",
       "            allowfullscreen\n",
       "            \n",
       "        ></iframe>\n",
       "        "
      ],
      "text/plain": [
       "<IPython.lib.display.IFrame at 0x324ea0b30>"
      ]
     },
     "metadata": {},
     "output_type": "display_data"
    },
    {
     "name": "stdout",
     "output_type": "stream",
     "text": [
      "\u001b[92m[INFO] Após análise, pode continuar.\u001b[0m\n"
     ]
    },
    {
     "data": {
      "application/javascript": [
       "window.cellVisibilityManager.hideCells();"
      ],
      "text/plain": [
       "<IPython.core.display.Javascript object>"
      ]
     },
     "metadata": {},
     "output_type": "display_data"
    },
    {
     "data": {
      "application/vnd.jupyter.widget-view+json": {
       "model_id": "b700e8675c6d4769908bec1d9290fe1d",
       "version_major": 2,
       "version_minor": 0
      },
      "text/plain": [
       "HTML(value='\\n<b style=\"font-size: 18px;\">Por favor, responda às 2 questões:</b><br><br>\\n')"
      ]
     },
     "metadata": {},
     "output_type": "display_data"
    },
    {
     "data": {
      "application/vnd.jupyter.widget-view+json": {
       "model_id": "a8b8066bdaa04ca88d4c0410ca1cc0c4",
       "version_major": 2,
       "version_minor": 0
      },
      "text/plain": [
       "HTML(value='<b>9. Com base na matriz de correlações, qual a relação entre a presença de farmácias, supermercad…"
      ]
     },
     "metadata": {},
     "output_type": "display_data"
    },
    {
     "data": {
      "application/vnd.jupyter.widget-view+json": {
       "model_id": "1844b05a844b4d7b91911c1a72136a46",
       "version_major": 2,
       "version_minor": 0
      },
      "text/plain": [
       "RadioButtons(description='Escolha uma opção:', layout=Layout(height='auto', margin='10px 0 20px 0', width='600…"
      ]
     },
     "metadata": {},
     "output_type": "display_data"
    },
    {
     "data": {
      "application/vnd.jupyter.widget-view+json": {
       "model_id": "06b7d15e19b04405b65a3ce616cdb52d",
       "version_major": 2,
       "version_minor": 0
      },
      "text/plain": [
       "HTML(value='<b>10. Com base na matriz de correlações, como se caracteriza a relação entre população com 65 ano…"
      ]
     },
     "metadata": {},
     "output_type": "display_data"
    },
    {
     "data": {
      "application/vnd.jupyter.widget-view+json": {
       "model_id": "4e841127603746a6a1847fbfcc67dd7b",
       "version_major": 2,
       "version_minor": 0
      },
      "text/plain": [
       "RadioButtons(description='Escolha uma opção:', layout=Layout(height='auto', margin='10px 0 20px 0', width='800…"
      ]
     },
     "metadata": {},
     "output_type": "display_data"
    },
    {
     "data": {
      "application/vnd.jupyter.widget-view+json": {
       "model_id": "92559935a72846889c35c412846963b6",
       "version_major": 2,
       "version_minor": 0
      },
      "text/plain": [
       "Button(button_style='info', description='Gravar resposta', style=ButtonStyle())"
      ]
     },
     "metadata": {},
     "output_type": "display_data"
    },
    {
     "data": {
      "application/vnd.jupyter.widget-view+json": {
       "model_id": "9388b0908b3f4c848d969db662b44c7e",
       "version_major": 2,
       "version_minor": 0
      },
      "text/plain": [
       "Output()"
      ]
     },
     "metadata": {},
     "output_type": "display_data"
    }
   ],
   "source": [
    "# hide-me\n",
    "from IPython.display import Javascript, display\n",
    "display(Javascript('window.cellVisibilityManager?.hideCells?.();'))\n",
    "\n",
    "from IPython import get_ipython\n",
    "import pickle\n",
    "\n",
    "ipython = get_ipython()\n",
    "\n",
    "# --- Importar as bibliotecas ---\n",
    "ipython.run_line_magic(\"run\", \"1.preparacao_bibliotecas.ipynb\")\n",
    "\n",
    "# --- Executar o notebook base ---\n",
    "ipython.run_line_magic(\"run\", \"7.atratividade_XGBoost_base.ipynb\")"
   ]
  },
  {
   "cell_type": "markdown",
   "id": "340cb111-f336-498d-a867-02085354ff53",
   "metadata": {},
   "source": [
    "<div style=\"border: none; margin: 5px 0; border-top: 1px dashed #FFFFFF; border-bottom: 1px dashed #FFFFFF; height: 5px;\"></div>"
   ]
  },
  {
   "cell_type": "markdown",
   "id": "4c533920-b8a5-42ef-bf8f-6b6093b839e1",
   "metadata": {},
   "source": [
    "Seguinte: [Conclusões (Insights)](8.insights.ipynb)"
   ]
  },
  {
   "cell_type": "markdown",
   "id": "11cc7243-29eb-4890-a9cb-23b14036c06a",
   "metadata": {},
   "source": [
    "<div style=\"border: none; margin: 5px 0; border-top: 1px dashed #FFFFFF; border-bottom: 1px dashed #FFFFFF; height: 5px;\"></div>"
   ]
  },
  {
   "cell_type": "code",
   "execution_count": null,
   "id": "503d0f11-f023-40cc-b171-490e720dde88",
   "metadata": {},
   "outputs": [],
   "source": []
  }
 ],
 "metadata": {
  "kernelspec": {
   "display_name": "Python 3 (ipykernel)",
   "language": "python",
   "name": "python3"
  },
  "language_info": {
   "codemirror_mode": {
    "name": "ipython",
    "version": 3
   },
   "file_extension": ".py",
   "mimetype": "text/x-python",
   "name": "python",
   "nbconvert_exporter": "python",
   "pygments_lexer": "ipython3",
   "version": "3.12.2"
  }
 },
 "nbformat": 4,
 "nbformat_minor": 5
}
