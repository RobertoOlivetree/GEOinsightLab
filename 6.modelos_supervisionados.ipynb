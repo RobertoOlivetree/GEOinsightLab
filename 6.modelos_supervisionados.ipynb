{
 "cells": [
  {
   "cell_type": "markdown",
   "id": "e47de12e-5d52-4948-8423-ef20a5219259",
   "metadata": {},
   "source": [
    "<div style=\"border: none; margin: 5px 0; border-top: 1px dashed #FFFFFF; border-bottom: 1px dashed #FFFFFF; height: 5px;\"></div>"
   ]
  },
  {
   "cell_type": "markdown",
   "id": "93549cad-9592-483e-aba5-577657f2bc5c",
   "metadata": {},
   "source": [
    "<h2 style=\"color: #FFA07A;\">6. Aplicação de modelos supervisionados</h2>"
   ]
  },
  {
   "cell_type": "code",
   "execution_count": 3,
   "id": "0e24bde3-5b7b-40cc-a4ae-7143766d63e6",
   "metadata": {},
   "outputs": [
    {
     "name": "stdout",
     "output_type": "stream",
     "text": [
      "[INFO] Dados calculados. Ver tabela abaixo.\n",
      "\n",
      "\n",
      "Resultados com validação cruzada k-fold (10):\n",
      "\n",
      "╒═══════════════════╤═══════════════════╤═══════════════════╤═══════════════════╤═══════════════════╤═══════════════════╤═══════════════════╕\n",
      "│      Modelo       │        R²         │       RMSE        │        MAE        │       RMSLE       │    MedAPE (%)     │    CVRMSE (%)     │\n",
      "╞═══════════════════╪═══════════════════╪═══════════════════╪═══════════════════╪═══════════════════╪═══════════════════╪═══════════════════╡\n",
      "│   Random Forest   │     0.999853      │     0.228594      │     0.0522078     │     0.0146356     │         0         │     0.956807      │\n",
      "├───────────────────┼───────────────────┼───────────────────┼───────────────────┼───────────────────┼───────────────────┼───────────────────┤\n",
      "│        SVR        │    -0.0169302     │      19.041       │      13.8969      │     0.841595      │      57.4253      │      79.6982      │\n",
      "├───────────────────┼───────────────────┼───────────────────┼───────────────────┼───────────────────┼───────────────────┼───────────────────┤\n",
      "│      XGBoost      │     0.998504      │     0.730338      │      0.47801      │     0.066473      │      1.74282      │      3.05691      │\n",
      "╘═══════════════════╧═══════════════════╧═══════════════════╧═══════════════════╧═══════════════════╧═══════════════════╧═══════════════════╛\n",
      "\u001b[92m[INFO] Após análise, pode continuar.\u001b[0m\n"
     ]
    },
    {
     "data": {
      "application/vnd.jupyter.widget-view+json": {
       "model_id": "bf5979332c14478897237598a6140cdd",
       "version_major": 2,
       "version_minor": 0
      },
      "text/plain": [
       "HTML(value='<div></div>')"
      ]
     },
     "metadata": {},
     "output_type": "display_data"
    },
    {
     "data": {
      "text/html": [
       "<h2 style=\"color: #FFA07A;\">6.1. Cálculo de pesos da variável \"atratividade\" com análise de componentes principais (PCA)</h2>"
      ],
      "text/plain": [
       "<IPython.core.display.HTML object>"
      ]
     },
     "metadata": {},
     "output_type": "display_data"
    },
    {
     "data": {
      "application/vnd.jupyter.widget-view+json": {
       "model_id": "2352364543bf454f95a3a1ae22f405c0",
       "version_major": 2,
       "version_minor": 0
      },
      "text/plain": [
       "HTML(value='<div></div>')"
      ]
     },
     "metadata": {},
     "output_type": "display_data"
    },
    {
     "data": {
      "application/javascript": [
       "window.cellVisibilityManager.hideCells();"
      ],
      "text/plain": [
       "<IPython.core.display.Javascript object>"
      ]
     },
     "metadata": {},
     "output_type": "display_data"
    },
    {
     "data": {
      "text/html": [
       "\n",
       "        <iframe\n",
       "            width=\"100%\"\n",
       "            height=\"650\"\n",
       "            src=\"http://127.0.0.1:8174/\"\n",
       "            frameborder=\"0\"\n",
       "            allowfullscreen\n",
       "            \n",
       "        ></iframe>\n",
       "        "
      ],
      "text/plain": [
       "<IPython.lib.display.IFrame at 0x313751370>"
      ]
     },
     "metadata": {},
     "output_type": "display_data"
    },
    {
     "name": "stdout",
     "output_type": "stream",
     "text": [
      "\u001b[92m[INFO] Após análise, pode continuar.\u001b[0m\n"
     ]
    },
    {
     "data": {
      "text/html": [
       "<h2 style=\"color: #FFA07A;\">6.2. Cálculo de pesos da variável \"atratividade\" com análise fatorial confirmatória (CFA)</h2>"
      ],
      "text/plain": [
       "<IPython.core.display.HTML object>"
      ]
     },
     "metadata": {},
     "output_type": "display_data"
    },
    {
     "data": {
      "application/vnd.jupyter.widget-view+json": {
       "model_id": "d936b5ad4a7a47beb2d5c5eb8cc3db98",
       "version_major": 2,
       "version_minor": 0
      },
      "text/plain": [
       "HTML(value='<div></div>')"
      ]
     },
     "metadata": {},
     "output_type": "display_data"
    },
    {
     "data": {
      "application/javascript": [
       "window.cellVisibilityManager.hideCells();"
      ],
      "text/plain": [
       "<IPython.core.display.Javascript object>"
      ]
     },
     "metadata": {},
     "output_type": "display_data"
    },
    {
     "name": "stdout",
     "output_type": "stream",
     "text": [
      "Objetivo usado: DWLS\n",
      "\n",
      "=== Índices de ajuste ===\n"
     ]
    },
    {
     "data": {
      "text/plain": [
       "DOF                  27.000000\n",
       "CHI2               1656.179341\n",
       "RMSEA                 0.043511\n",
       "CFI                   0.992188\n",
       "TLI                   0.989584\n",
       "GFI                   0.992060\n",
       "AGFI                  0.989413\n",
       "NFI                   0.992060\n",
       "AIC                  34.993348\n",
       "BIC                 185.644610\n",
       "LOGLIK                0.503326\n",
       "DOF BASELINE         36.000000\n",
       "CHI2 BASELINE    208588.078856\n",
       "CHI2 P-VALUE          0.000000\n",
       "Name: Value, dtype: float64"
      ]
     },
     "metadata": {},
     "output_type": "display_data"
    },
    {
     "name": "stdout",
     "output_type": "stream",
     "text": [
      "\n",
      "=== Cargas padronizadas calculadas ===\n"
     ]
    },
    {
     "data": {
      "text/html": [
       "<div>\n",
       "<style scoped>\n",
       "    .dataframe tbody tr th:only-of-type {\n",
       "        vertical-align: middle;\n",
       "    }\n",
       "\n",
       "    .dataframe tbody tr th {\n",
       "        vertical-align: top;\n",
       "    }\n",
       "\n",
       "    .dataframe thead th {\n",
       "        text-align: right;\n",
       "    }\n",
       "</style>\n",
       "<table border=\"1\" class=\"dataframe\">\n",
       "  <thead>\n",
       "    <tr style=\"text-align: right;\">\n",
       "      <th></th>\n",
       "      <th>Fator</th>\n",
       "      <th>Indicador</th>\n",
       "      <th>Carga padronizada</th>\n",
       "    </tr>\n",
       "  </thead>\n",
       "  <tbody>\n",
       "    <tr>\n",
       "      <th>0</th>\n",
       "      <td>Atratividade</td>\n",
       "      <td>Supermercados</td>\n",
       "      <td>1.000000</td>\n",
       "    </tr>\n",
       "    <tr>\n",
       "      <th>1</th>\n",
       "      <td>Atratividade</td>\n",
       "      <td>Bancos</td>\n",
       "      <td>0.925418</td>\n",
       "    </tr>\n",
       "    <tr>\n",
       "      <th>2</th>\n",
       "      <td>Atratividade</td>\n",
       "      <td>CTT</td>\n",
       "      <td>0.883734</td>\n",
       "    </tr>\n",
       "    <tr>\n",
       "      <th>3</th>\n",
       "      <td>Atratividade</td>\n",
       "      <td>Farmacias</td>\n",
       "      <td>0.873545</td>\n",
       "    </tr>\n",
       "    <tr>\n",
       "      <th>4</th>\n",
       "      <td>Atratividade</td>\n",
       "      <td>Centro_de_saude</td>\n",
       "      <td>0.770360</td>\n",
       "    </tr>\n",
       "    <tr>\n",
       "      <th>5</th>\n",
       "      <td>Atratividade</td>\n",
       "      <td>Parques_ou_jardins</td>\n",
       "      <td>0.723615</td>\n",
       "    </tr>\n",
       "    <tr>\n",
       "      <th>6</th>\n",
       "      <td>Atratividade</td>\n",
       "      <td>Hospitais</td>\n",
       "      <td>0.437683</td>\n",
       "    </tr>\n",
       "    <tr>\n",
       "      <th>7</th>\n",
       "      <td>Atratividade</td>\n",
       "      <td>Populacao_65</td>\n",
       "      <td>-0.141703</td>\n",
       "    </tr>\n",
       "    <tr>\n",
       "      <th>8</th>\n",
       "      <td>Atratividade</td>\n",
       "      <td>Proximidade</td>\n",
       "      <td>0.037049</td>\n",
       "    </tr>\n",
       "  </tbody>\n",
       "</table>\n",
       "</div>"
      ],
      "text/plain": [
       "          Fator           Indicador  Carga padronizada\n",
       "0  Atratividade       Supermercados           1.000000\n",
       "1  Atratividade              Bancos           0.925418\n",
       "2  Atratividade                 CTT           0.883734\n",
       "3  Atratividade           Farmacias           0.873545\n",
       "4  Atratividade     Centro_de_saude           0.770360\n",
       "5  Atratividade  Parques_ou_jardins           0.723615\n",
       "6  Atratividade           Hospitais           0.437683\n",
       "7  Atratividade        Populacao_65          -0.141703\n",
       "8  Atratividade         Proximidade           0.037049"
      ]
     },
     "metadata": {},
     "output_type": "display_data"
    },
    {
     "data": {
      "application/vnd.jupyter.widget-view+json": {
       "model_id": "e9f9cc446a174f75a6a93d4248871d69",
       "version_major": 2,
       "version_minor": 0
      },
      "text/plain": [
       "HTML(value='<div></div>')"
      ]
     },
     "metadata": {},
     "output_type": "display_data"
    }
   ],
   "source": [
    "# hide-me\n",
    "from IPython.display import Javascript, display\n",
    "display(Javascript('window.cellVisibilityManager?.hideCells?.();'))\n",
    "\n",
    "from IPython import get_ipython\n",
    "import pickle\n",
    "\n",
    "ipython = get_ipython()\n",
    "\n",
    "# --- Importar bibliotecas ---\n",
    "ipython.run_line_magic(\"run\", \"1.preparacao_bibliotecas.ipynb\")\n",
    "\n",
    "# --- Executar o notebook base ---\n",
    "ipython.run_line_magic(\"run\", \"6.modelos_supervisionados_base.ipynb\")"
   ]
  },
  {
   "cell_type": "markdown",
   "id": "f07ec2ee-c5a4-403b-9ae2-70e5d15df945",
   "metadata": {},
   "source": [
    "<div style=\"border: none; margin: 5px 0; border-top: 1px dashed #FFFFFF; border-bottom: 1px dashed #FFFFFF; height: 5px;\"></div>"
   ]
  },
  {
   "cell_type": "markdown",
   "id": "4c533920-b8a5-42ef-bf8f-6b6093b839e1",
   "metadata": {},
   "source": [
    "Seguinte: [Atratividade com o XGBoost](7.atratividade_XGBoost.ipynb)"
   ]
  },
  {
   "cell_type": "markdown",
   "id": "11cc7243-29eb-4890-a9cb-23b14036c06a",
   "metadata": {},
   "source": [
    "<div style=\"border: none; margin: 5px 0; border-top: 1px dashed #FFFFFF; border-bottom: 1px dashed #FFFFFF; height: 5px;\"></div>"
   ]
  }
 ],
 "metadata": {
  "kernelspec": {
   "display_name": "Python 3 (ipykernel)",
   "language": "python",
   "name": "python3"
  },
  "language_info": {
   "codemirror_mode": {
    "name": "ipython",
    "version": 3
   },
   "file_extension": ".py",
   "mimetype": "text/x-python",
   "name": "python",
   "nbconvert_exporter": "python",
   "pygments_lexer": "ipython3",
   "version": "3.12.2"
  }
 },
 "nbformat": 4,
 "nbformat_minor": 5
}
