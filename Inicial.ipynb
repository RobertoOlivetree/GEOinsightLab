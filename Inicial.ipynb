{
 "cells": [
  {
   "cell_type": "markdown",
   "id": "93cd8a06-9dd8-4b2e-a5b4-683e49a10784",
   "metadata": {},
   "source": [
    "<div style=\"border: 1px solid white; padding: 15px; background-color: #1e1e1e; border-radius: 5px; color: white; font-family: Arial, sans-serif;\">\n",
    "<div style=\"text-align: center; font-size: 36px; font-weight: bold;\">\n",
    "<b><i>GEOinsightLab</i></b>\n",
    "</div>\n",
    "\n",
    "Olá! 👋 Seja bem-vindo(a) à plataforma **<i>GEOinsightLab</i>**. Este guia foi preparado para o(a) ajudar a começar, sobretudo se for a primeira vez que utiliza <i>notebooks</i>. Não se preocupe, é mais simples do que parece!\n",
    "\n",
    "---\n",
    "\n",
    "## O que pode fazer aqui?\n",
    "1. Executar **código** (em Python).\n",
    "2. Trabalhar num ambiente que combina código e explicações num único local.\n",
    "3. Analisar grandes conjuntos de dados espaciais e aplicar técnicas de ciência de dados.\n",
    "\n",
    "---\n",
    "\n",
    "## Como começar?\n",
    "### 🔹 Executar células:\n",
    "- Um <i>notebook</i> é composto por \"células\".\n",
    "- Existem dois tipos principais de células:\n",
    "  - **Células de código**: para inserir e executar código.\n",
    "  - **Células de texto** (Markdown): para anotações e descrições.\n",
    "- Para executar uma célula:\n",
    "  1. Pressione o botão ▶ no menu acima para iniciar a análise.\n",
    "  2. Sempre que carregar no botão ▶, aguarde pela conclusão da operação antes de avançar, pois o carregamento de dados e os cálculos podem demorar algum tempo.\n",
    "  3. As células com fundo branco são **Markdown**, não produzem resultados.\n",
    "  4. <b>Não deve saltar etapas. O processo é sequencial, começando na primeira célula de cada <i>notebook</i>.</span></p></b></b>\n",
    "\n",
    "---\n",
    "\n",
    "Se precisar de ajuda, explore o menu **Ajuda**.\n",
    "\n",
    "</div>"
   ]
  },
  {
   "cell_type": "markdown",
   "id": "038659f1-028d-41aa-abfc-19cd7cd71dc3",
   "metadata": {},
   "source": [
    "Para prosseguir clique aqui: [Iniciar](1.preparacao_bibliotecas.ipynb)"
   ]
  }
 ],
 "metadata": {
  "kernelspec": {
   "display_name": "Python 3 (ipykernel)",
   "language": "python",
   "name": "python3"
  },
  "language_info": {
   "codemirror_mode": {
    "name": "ipython",
    "version": 3
   },
   "file_extension": ".py",
   "mimetype": "text/x-python",
   "name": "python",
   "nbconvert_exporter": "python",
   "pygments_lexer": "ipython3",
   "version": "3.12.2"
  }
 },
 "nbformat": 4,
 "nbformat_minor": 5
}
