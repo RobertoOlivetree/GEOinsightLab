{
 "cells": [
  {
   "cell_type": "markdown",
   "id": "cb386df8-9f03-4c23-949d-a3c72c758c27",
   "metadata": {},
   "source": [
    "<div style=\"border: none; margin: 5px 0; border-top: 1px dashed #FFFFFF; border-bottom: 1px dashed #FFFFFF; height: 5px;\"></div>"
   ]
  },
  {
   "cell_type": "markdown",
   "id": "3a7ee2fe-492f-499e-a9ba-f3378edf8fa4",
   "metadata": {},
   "source": [
    "<h2 style=\"color: #FFA07A;\">4. Análise e explicabilidade dos agrupamentos (<i>clusters</i>) com inteligência artificial</h2>"
   ]
  },
  {
   "cell_type": "code",
   "execution_count": 1,
   "id": "d8856c14-b9dd-4066-91ce-d50c53b2e06a",
   "metadata": {},
   "outputs": [
    {
     "data": {
      "application/vnd.jupyter.widget-view+json": {
       "model_id": "a26c6fadd0ef4ef6b87654e3f896f128",
       "version_major": 2,
       "version_minor": 0
      },
      "text/plain": [
       "HTML(value='<div></div>')"
      ]
     },
     "metadata": {},
     "output_type": "display_data"
    }
   ],
   "source": [
    "import ipywidgets as widgets\n",
    "import time\n",
    "from IPython.display import display\n",
    "\n",
    "# --- Criar um aplicativo HTML para exibir o efeito de escrita ---\n",
    "output = widgets.HTML(value=\"<div></div>\")\n",
    "display(output)\n",
    "\n",
    "# --- Texto formatado para o efeito de escrita ---\n",
    "texto = \"\"\"\n",
    "<div style=\"background-color: #FFFFFF; color: #333333; padding: 15px; \n",
    "            border-left: 5px solid #FFA500; font-family: Arial, sans-serif; \n",
    "            text-align: justify; font-size: 16px; line-height: 1.6;\">\n",
    "    <p>As decisões dos algoritmos podem ser difíceis de interpretar. Por isso, nesta secção aplicamos técnicas complementares de interpretabilidade (<i>Explainable Artificial Intelligence</i> – XAI), uma área da inteligência artificial que procura tornar os algoritmos mais transparentes, explicando de forma clara como tomam decisões.</p> \n",
    "    <p>Como o K-means não fornece, por si só, mecanismos para explicar a formação dos agrupamentos, recorremos às seguintes abordagens para explorar <u>como e porquê</u> os edifícios foram agrupados em dois <i>clusters</i>, utilizando técnicas de explicabilidade para compreender as decisões:</p> \n",
    "    <p> 🔸 <b><u>LIME (<i>Local Interpretable Model-Agnostic Explanations</i>)</u></b>: interpreta os resultados a nível local, evidenciando o impacto individual de cada variável nas previsões, considerando uma amostra específica nos dados de cada <i>cluster</i>. </p> \n",
    "    <p> 🔸 <b><u>Árvore de decisão</u></b>: oferece uma visão hierárquica e não linear sobre a influência das variáveis nos agrupamentos ou previsões.</p> \n",
    "    <p> 🔸 <b><u>Importância das variáveis (via Floresta Aleatória)</u></b>: calculada através de um modelo de Floresta Aleatória (Random Forest), esta análise identifica quais variáveis mais contribuíram para distinguir os grupos.</p> \n",
    "    <p> 🔸 Estas técnicas permitem uma compreensão mais aprofundada dos padrões identificados pelo K-means e serão integradas na análise global do modelo. </p> \n",
    "</div>\n",
    "\"\"\"\n",
    "\n",
    "# --- Efeito de escrita carácter a carácter (mantém o HTML) ---\n",
    "typed = \"\"\n",
    "for char in texto:\n",
    "    typed += char\n",
    "    output.value = typed\n",
    "    time.sleep(0.005) # Ajustar velocidade\n",
    "\n",
    "# --- Garantir que o texto completo é exibido no final ---\n",
    "output.value = texto"
   ]
  },
  {
   "cell_type": "code",
   "execution_count": 2,
   "id": "d1da9727-9790-4823-9308-37c5f98e2e69",
   "metadata": {},
   "outputs": [
    {
     "data": {
      "application/javascript": [
       "window.cellVisibilityManager.hideCells();"
      ],
      "text/plain": [
       "<IPython.core.display.Javascript object>"
      ]
     },
     "metadata": {},
     "output_type": "display_data"
    },
    {
     "data": {
      "application/javascript": [
       "\n",
       "    (function() {\n",
       "        function ensureManagerExists() {\n",
       "            if (!window.cellVisibilityManager) {\n",
       "                window.cellVisibilityManager = {\n",
       "                    toggleButton: null,\n",
       "\n",
       "                    hideCells: function() {\n",
       "                        try {\n",
       "                            document.querySelectorAll('.jp-Cell, .cell').forEach(cell => {\n",
       "                                let editor = cell.querySelector('.jp-InputArea-editor, .input_area');\n",
       "                                if (editor && editor.innerText.includes('# hide-me')) {\n",
       "                                    let input = cell.querySelector('.jp-InputArea, .input_area');\n",
       "                                    if (input) {\n",
       "                                        input.style.display = 'none';\n",
       "                                        cell.classList.add('hidden');\n",
       "                                    }\n",
       "                                }\n",
       "                            });\n",
       "                        } catch (e) {\n",
       "                            console.warn(\"Erro ao ocultar células:\", e);\n",
       "                        }\n",
       "                    },\n",
       "\n",
       "                    showCells: function() {\n",
       "                        try {\n",
       "                            document.querySelectorAll('.jp-Cell, .cell').forEach(cell => {\n",
       "                                if (cell.classList.contains('hidden')) {\n",
       "                                    let input = cell.querySelector('.jp-InputArea, .input_area');\n",
       "                                    if (input) {\n",
       "                                        input.style.display = '';\n",
       "                                        cell.classList.remove('hidden');\n",
       "                                    }\n",
       "                                }\n",
       "                            });\n",
       "                        } catch (e) {\n",
       "                            console.warn(\"Erro ao mostrar células:\", e);\n",
       "                        }\n",
       "                    },\n",
       "\n",
       "                    toggleCells: function() {\n",
       "                        try {\n",
       "                            let hiddenCells = document.querySelectorAll('.hidden');\n",
       "                            if (hiddenCells.length > 0) {\n",
       "                                this.showCells();\n",
       "                                if (this.toggleButton) this.toggleButton.innerText = \"Ocultar Código\";\n",
       "                            } else {\n",
       "                                this.hideCells();\n",
       "                                if (this.toggleButton) this.toggleButton.innerText = \"Mostrar Código\";\n",
       "                            }\n",
       "                        } catch (e) {\n",
       "                            console.warn(\"Erro ao alternar células:\", e);\n",
       "                        }\n",
       "                    }\n",
       "                };\n",
       "            }\n",
       "        }\n",
       "\n",
       "        function createToggleButton() {\n",
       "            ensureManagerExists();\n",
       "\n",
       "            if (!document.getElementById('toggleCodeButton')) {\n",
       "                let btn = document.createElement('button');\n",
       "                btn.innerText = \"Mostrar Código\";\n",
       "                btn.id = \"toggleCodeButton\";\n",
       "                btn.style.position = 'fixed';\n",
       "                btn.style.top = '10px';\n",
       "                btn.style.right = '10px';\n",
       "                btn.style.padding = '10px 20px';\n",
       "                btn.style.zIndex = '1000';\n",
       "                btn.style.backgroundColor = '#007bff';\n",
       "                btn.style.color = 'white';\n",
       "                btn.style.border = 'none';\n",
       "                btn.style.borderRadius = '5px';\n",
       "                btn.style.cursor = 'pointer';\n",
       "                btn.onclick = function() {\n",
       "                    if (window.cellVisibilityManager) {\n",
       "                        window.cellVisibilityManager.toggleCells();\n",
       "                    }\n",
       "                };\n",
       "\n",
       "                document.body.appendChild(btn);\n",
       "                window.cellVisibilityManager.toggleButton = btn;\n",
       "            }\n",
       "        }\n",
       "\n",
       "        setTimeout(() => {\n",
       "            try {\n",
       "                ensureManagerExists();\n",
       "                createToggleButton();\n",
       "            } catch (e) {\n",
       "                console.warn(\"Erro ao inicializar cellVisibilityManager:\", e);\n",
       "            }\n",
       "        }, 3000);\n",
       "\n",
       "        if (!window.cellVisibilityManager) {\n",
       "            ensureManagerExists();\n",
       "        }\n",
       "\n",
       "        // Impedir rolagem automática para o final\n",
       "        setTimeout(() => {\n",
       "            if (window) {\n",
       "                window.scrollTo({ top: 0, behavior: 'smooth' });\n",
       "            }\n",
       "        }, 500);\n",
       "    })();\n",
       "    "
      ],
      "text/plain": [
       "<IPython.core.display.Javascript object>"
      ]
     },
     "metadata": {},
     "output_type": "display_data"
    },
    {
     "data": {
      "application/javascript": [
       "window.cellVisibilityManager.hideCells();"
      ],
      "text/plain": [
       "<IPython.core.display.Javascript object>"
      ]
     },
     "metadata": {},
     "output_type": "display_data"
    }
   ],
   "source": [
    "from IPython.display import Javascript, display\n",
    "# hide-me\n",
    "display(Javascript('window.cellVisibilityManager.hideCells();'))\n",
    "\n",
    "# --- Importar as bibliotecas ---\n",
    "ipython = get_ipython()\n",
    "ipython.run_line_magic(\"run\", \"1.preparacao_bibliotecas.ipynb\")"
   ]
  },
  {
   "cell_type": "code",
   "execution_count": 8,
   "id": "ffcf62a1-a5a5-4682-a5be-33ba61656ef3",
   "metadata": {},
   "outputs": [
    {
     "data": {
      "application/javascript": [
       "window.cellVisibilityManager.hideCells();"
      ],
      "text/plain": [
       "<IPython.core.display.Javascript object>"
      ]
     },
     "metadata": {},
     "output_type": "display_data"
    },
    {
     "data": {
      "text/html": [
       "\n",
       "        <iframe\n",
       "            width=\"100%\"\n",
       "            height=\"650\"\n",
       "            src=\"http://127.0.0.1:8917/\"\n",
       "            frameborder=\"0\"\n",
       "            allowfullscreen\n",
       "            \n",
       "        ></iframe>\n",
       "        "
      ],
      "text/plain": [
       "<IPython.lib.display.IFrame at 0x31f059e80>"
      ]
     },
     "metadata": {},
     "output_type": "display_data"
    },
    {
     "name": "stdout",
     "output_type": "stream",
     "text": [
      "\u001b[92m[INFO] Análise concluída. Você pode prosseguir.\u001b[0m\n"
     ]
    }
   ],
   "source": [
    "# hide-me\n",
    "display(Javascript('window.cellVisibilityManager.hideCells();'))\n",
    "\n",
    "# --- Carregar os dados ---\n",
    "input_pkl_path = \"df_servicos_clusters.pkl\"\n",
    "with open(input_pkl_path, 'rb') as pkl_file:\n",
    "    data = pickle.load(pkl_file)\n",
    "\n",
    "df_servicos = data['df']  \n",
    "\n",
    "# --- Mapeamento para nomes de variáveis mais legíveis ---\n",
    "label_map = {\n",
    "    'numero_servicos_proximos': 'Número total de serviços próximos',\n",
    "    'pop_64_mais': 'População com 65 anos ou +',\n",
    "    'distancia_media_servicos': 'Distância média aos serviços',\n",
    "    'Centro Saude': 'Centro de saúde',\n",
    "    'Farmacias': 'Farmácias',\n",
    "    'Hospitais': 'Hospitais',\n",
    "    'Supermercados': 'Supermercados',\n",
    "    'Bancos': 'Bancos',\n",
    "    'Parques e jardins': 'Parques ou jardins',\n",
    "    'CTT': 'CTT'\n",
    "}\n",
    "\n",
    "# --- Preparar os dados para os modelos ---\n",
    "X = df_servicos[['pop_64_mais', 'numero_servicos_proximos', 'distancia_media_servicos',\n",
    "                 'Centro Saude', 'Farmacias', 'Hospitais',\n",
    "                 'Supermercados', 'Bancos', 'Parques e jardins', 'CTT']]\n",
    "y = df_servicos['cluster_kmeans']  # Usar os clusters do K-means\n",
    "\n",
    "# --- Treinar o modelo Floresta Aleatória ---\n",
    "rf_model = RandomForestClassifier(random_state=42)\n",
    "rf_model.fit(X, y)\n",
    "\n",
    "# --- Inicializar o explicador LIME com nomes de variáveis legíveis ---\n",
    "explainer = LimeTabularExplainer(\n",
    "    X.values,\n",
    "    feature_names=[label_map.get(col, col) for col in X.columns],\n",
    "    class_names=[f\"Cluster {i}\" for i in sorted(y.unique())],\n",
    "    mode=\"classification\",\n",
    "    discretize_continuous=True\n",
    ")\n",
    "\n",
    "# --- Treinar o modelo Árvore de decisão ---\n",
    "dt_model = DecisionTreeClassifier(max_depth=4, random_state=42)\n",
    "dt_model.fit(X, y)\n",
    "\n",
    "# --- Inicializar a aplicação Dash ---\n",
    "app = Dash(__name__, suppress_callback_exceptions=True)\n",
    "\n",
    "# --- Definir a apresentação da aplicação ---\n",
    "app.layout = html.Div([\n",
    "    html.H1(\"Modelo de avaliação com inteligência artificial explicável\", style={\n",
    "        'text-align': 'center',\n",
    "        'color': 'white',\n",
    "        'background-color': '#000',\n",
    "        'border': '2px solid white',\n",
    "        'padding': '10px',\n",
    "        'font-weight': 'bold',\n",
    "        'font-size': '32px'\n",
    "    }),\n",
    "\n",
    "    dcc.Tabs(id=\"tabs\", value='tree-tab', children=[\n",
    "        dcc.Tab(label='Árvore de decisão', value='tree-tab',\n",
    "                style={'backgroundColor': '#000', 'color': 'white', 'padding': '10px'},\n",
    "                selected_style={'backgroundColor': '#000', 'color': 'white', 'padding': '10px', 'borderTop': '4px solid #ffcc00'}),\n",
    "        dcc.Tab(label='LIME', value='lime-tab',\n",
    "                style={'backgroundColor': '#000', 'color': 'white', 'padding': '10px'},\n",
    "                selected_style={'backgroundColor': '#000', 'color': 'white', 'padding': '10px', 'borderTop': '4px solid #ffcc00'}),\n",
    "        dcc.Tab(label='Importância das variáveis', value='importance-tab',\n",
    "                style={'backgroundColor': '#000', 'color': 'white', 'padding': '10px'},\n",
    "                selected_style={'backgroundColor': '#000', 'color': 'white', 'padding': '10px', 'borderTop': '4px solid #ffcc00'})\n",
    "    ]),\n",
    "\n",
    "    html.Div(id='tabs-content')\n",
    "])\n",
    "\n",
    "# --- Função para elaborar a Árvore de Decisão em SVG ---\n",
    "def gerar_arvore_svg():\n",
    "    with NamedTemporaryFile(delete=False, suffix=\".dot\") as dot_file:\n",
    "        export_graphviz(\n",
    "            dt_model,\n",
    "            out_file=dot_file.name,\n",
    "            feature_names=[label_map.get(col, col) for col in X.columns],\n",
    "            class_names=[f\"Cluster {i}\" for i in sorted(y.unique())],\n",
    "            filled=True,\n",
    "            rounded=True,\n",
    "            special_characters=True,\n",
    "            precision=0 \n",
    "        )\n",
    "        dot_file.close()\n",
    "\n",
    "        svg_file = NamedTemporaryFile(delete=False, suffix=\".svg\")\n",
    "        subprocess.run([\"dot\", \"-Tsvg\", dot_file.name, \"-o\", svg_file.name], check=True)\n",
    "\n",
    "        with open(svg_file.name, \"rb\") as f:\n",
    "            svg_content = f.read()\n",
    "\n",
    "    return base64.b64encode(svg_content).decode('utf-8')\n",
    "\n",
    "# --- Renderizar o conteúdo conforme o separador selecionado ---\n",
    "@app.callback(Output('tabs-content', 'children'), Input('tabs', 'value'))\n",
    "def render_tab_content(tab):\n",
    "    if tab == 'tree-tab':\n",
    "        svg_base64 = gerar_arvore_svg()\n",
    "        return html.Div([\n",
    "            html.Div([\n",
    "                html.Img(src=f\"data:image/svg+xml;base64,{svg_base64}\")\n",
    "            ], style={'text-align': 'center', 'overflow-x': 'scroll'})\n",
    "        ])\n",
    "    elif tab == 'lime-tab':\n",
    "        return html.Div([\n",
    "            dcc.Dropdown(\n",
    "                id='lime-cluster-selector',\n",
    "                options=[{'label': f'Cluster {i}', 'value': i} for i in sorted(y.unique())],\n",
    "                placeholder=\"Selecione um cluster\",\n",
    "                style={'backgroundColor': 'white', 'color': 'black'}\n",
    "            ),\n",
    "            html.Div(id='lime-output', style={'padding': '10px', 'border': '1px solid #ccc',\n",
    "                                              'borderRadius': '5px', 'backgroundColor': 'white'})\n",
    "        ])\n",
    "    elif tab == 'importance-tab':\n",
    "        importances = rf_model.feature_importances_\n",
    "        features = [label_map.get(col, col) for col in X.columns]\n",
    "        fig = px.bar(x=importances, y=features, orientation='h',\n",
    "                     labels={'x': 'Importância', 'y': 'Variáveis'})\n",
    "        return html.Div([dcc.Graph(figure=fig)])\n",
    "\n",
    "    return html.Div(\"Selecione uma aba para visualizar os resultados.\")\n",
    "\n",
    "# --- Apresentar a explicação LIME para o cluster selecionado ---\n",
    "@app.callback(\n",
    "    Output('lime-output', 'children'),\n",
    "    Input('lime-cluster-selector', 'value')\n",
    ")\n",
    "def update_lime_output(cluster_selected):\n",
    "    if cluster_selected is not None:\n",
    "        try:\n",
    "            cluster_indices = y[y == cluster_selected].index.tolist()\n",
    "            if len(cluster_indices) == 0:\n",
    "                return \"Nenhuma instância encontrada para o cluster selecionado.\"\n",
    "\n",
    "            np.random.seed(42)\n",
    "            idx = np.random.choice(cluster_indices)\n",
    "\n",
    "            explanation = explainer.explain_instance(\n",
    "                X.iloc[idx].values,\n",
    "                lambda x: rf_model.predict_proba(pd.DataFrame(x, columns=X.columns)),\n",
    "                num_features=len(X.columns),\n",
    "                labels=[cluster_selected]\n",
    "            )\n",
    "            return html.Iframe(\n",
    "                srcDoc=explanation.as_html(),\n",
    "                style={'width': '100%', 'height': '600px', 'border': 'none'}\n",
    "            )\n",
    "        except Exception as e:\n",
    "            return f\"Erro ao gerar a explicação com LIME: {e}\"\n",
    "    return \"Selecione um cluster para visualizar a explicação com LIME.\"\n",
    "\n",
    "# --- Encontrar uma porta de rede livre para o painel interativo ---\n",
    "def encontrar_porta_livre():\n",
    "    while True:\n",
    "        porta = random.randint(8000, 9000)\n",
    "        with socket.socket(socket.AF_INET, socket.SOCK_STREAM) as s:\n",
    "            if s.connect_ex((\"localhost\", porta)) != 0:\n",
    "                return porta\n",
    "\n",
    "porta = encontrar_porta_livre()\n",
    "\n",
    "# --- Lançar a aplicação interativa quando o ficheiro for executado ---\n",
    "if __name__ == '__main__':\n",
    "    app.run(debug=False, port=porta)\n",
    "\n",
    "# ---- Mensagem final---\n",
    "print(\"\\033[92m[INFO] Análise concluída. Você pode prosseguir.\\033[0m\")"
   ]
  },
  {
   "cell_type": "code",
   "execution_count": 1,
   "id": "920ec5ba-e402-4884-b861-88a33c6909c4",
   "metadata": {},
   "outputs": [
    {
     "data": {
      "application/vnd.jupyter.widget-view+json": {
       "model_id": "839fd091539d469590058fe63b1ea6de",
       "version_major": 2,
       "version_minor": 0
      },
      "text/plain": [
       "HTML(value='<div></div>')"
      ]
     },
     "metadata": {},
     "output_type": "display_data"
    }
   ],
   "source": [
    "#\n",
    "import ipywidgets as widgets\n",
    "import time\n",
    "from IPython.display import display\n",
    "\n",
    "# --- Criar um aplicativo HTML para exibir o efeito de escrita ---\n",
    "output2 = widgets.HTML(value=\"<div></div>\")\n",
    "display(output2)\n",
    "\n",
    "# --- Texto formatado para o efeito de escrita ---\n",
    "texto_restante = \"\"\"\n",
    "<p style=\"text-align: justify;\">\n",
    "<p><b>Explicação:</b></p>\n",
    "🔹 <strong><u>Árvore de Decisão:</u></strong> revela que o <strong>número de serviços próximos</strong> é a variável com maior influência na segmentação, surgindo de forma predominante nos primeiros níveis da árvore. Esta variável é essencial para distinguir os dois <i>clusters</i>. O <i><strong>Cluster 0</strong></i> representa edifícios localizados em áreas com <strong>menor oferta de serviços nas proximidades</strong>, enquanto o <i><strong>Cluster 1</strong></i> agrupa áreas com <strong>maior concentração e diversidade de serviços urbanos</strong>.</p>\n",
    "<p>A variável <strong>população</strong> surge apenas em níveis mais profundos, o que indica que o <strong>fator demográfico</strong> tem um papel secundário em comparação com a acessibilidade aos serviços. Outras variáveis, como <em>hospitais</em>, <em>bancos</em> e <em>centros de saúde</em>, também contribuem para a classificação, mas atuam de forma complementar, refinando a segmentação em casos específicos.</p>\n",
    "<p><strong><u>LIME (Local Interpretable Model-Agnostic Explanations)</u></strong>: permite perceber como o modelo tomou uma decisão em relação a um edifício específico. Para isso, apresenta três gráficos principais, cada um com uma função distinta, facilitando a compreensão, mesmo para quem nunca utilizou esta técnica:</p>\n",
    "<ul>\n",
    "  <li><strong>Gráfico de probabilidade de predição:</strong> mostra a probabilidade de o edifício pertencer a cada um dos <i>clusters</i>. Por exemplo, se o modelo indicar 100% de probabilidade para o <i><strong>Cluster 0</strong></i> e 0% para o <i><strong>Cluster 1</strong></i>, <strong>isto significa</strong> que o modelo tem total confiança de que o edifício pertence ao <i><strong>Cluster 0</strong></i>.</li>\n",
    "\n",
    "  <li><strong>Gráfico das variáveis mais relevantes (localizado no centro da figura):</strong> mostra as variáveis que mais influenciaram a decisão do modelo para aquele edifício. As barras <span style=\"color:orange;\"><strong>laranja</strong></span> indicam uma influência a favor do <i><strong>Cluster 1</strong></i>, enquanto as barras <span style=\"color:blue;\"><strong>azuis</strong></span> indicam uma influência a favor do <i><strong>Cluster 0</strong></i>. Quanto maior for a barra, <strong>maior é</strong> o impacto dessa variável na decisão final. <strong>Nota:</strong> Mesmo que a maioria das barras seja laranja, o edifício pode ser classificado no <i><strong>Cluster 0</strong></i>. <strong>Isto</strong> acontece porque o LIME destaca as variáveis que mais poderiam mudar a decisão, e não todas as que o modelo considerou.</li>\n",
    "\n",
    "  <li><strong>Coluna «valor» (valores das variáveis):</strong> mostra o valor real de cada variável para o edifício analisado. Por exemplo, se a variável <em>\"bancos\"</em> tiver o valor <strong>9</strong>, significa que existem 9 bancos nas proximidades (1.5 km). O LIME indica como esse valor influenciou a classificação no respetivo <i>cluster</i>.</li>\n",
    "</ul>\n",
    "<p style=\"text-align: justify;\">\n",
    "🔹 <b><u>Importância das variáveis:</u></b> destaca que as variáveis mais relevantes são: o <i>número de serviços próximos</i>, <strong>seguido</strong> por variáveis como supermercados, bancos, CTT e farmácias. Por outro lado, variáveis como a distância média aos serviços, hospitais e parques ou jardins têm uma influência menor. Assim, conclui-se que a presença e diversidade de serviços de proximidade são os principais critérios na definição dos <i>clusters</i>.\n",
    "</p>\n",
    "<p style=\"text-align: justify;\">\n",
    "🔹 <b>Conclusão:</b> Tanto a <b>Árvore de Decisão</b> como a <b>Floresta Aleatória</b> (<b><u>importância das variáveis</u></b>) atribuem maior peso <strong>à acessibilidade e à diversidade de serviços</strong> na definição dos <i>clusters</i>. A variável <b>população com 65 anos ou mais</b> não se destacou como um critério relevante, aparecendo apenas em níveis mais baixos da Árvore de Decisão. Isto sugere que a <b>presença e concentração de serviços</b> <strong>foram os fatores</strong> mais determinantes na segmentação realizada pelo algoritmo <b>K-means</b>.\n",
    "</p>\n",
    "</div>\n",
    "\"\"\"\n",
    "texto_html = \"\"\"\n",
    "<div style=\"background-color: #FFFFFF; color: #333333; padding: 15px; \n",
    "            border-left: 5px solid #6A0DAD; font-family: Arial, sans-serif; \n",
    "            text-align: justify; font-size: 16px; line-height: 1.6;\">\n",
    "\"\"\"\n",
    "\n",
    "# --- Efeito de escrita carácter a carácter (mantém o HTML) ---\n",
    "for palavra in texto_restante.split():\n",
    "    texto_html += palavra + \" \"\n",
    "    output2.value = texto_html + \"</div>\"\n",
    "    time.sleep(0.10)   # Ajustar velocidade\n",
    "\n",
    "# --- Garantir que o texto completo é exibido no final ---\n",
    "output2.value = texto_html + \"</div>\""
   ]
  },
  {
   "cell_type": "markdown",
   "id": "ff374eb3-8e8d-47ad-a3dd-cde26b6aefe1",
   "metadata": {},
   "source": [
    "<div style=\"border: none; margin: 5px 0; border-top: 1px dashed #FFFFFF; border-bottom: 1px dashed #FFFFFF; height: 5px;\"></div>"
   ]
  },
  {
   "cell_type": "code",
   "execution_count": 4,
   "id": "2b578c90-714f-4a57-bcd4-2b215b073fd1",
   "metadata": {},
   "outputs": [
    {
     "data": {
      "application/javascript": [
       "window.cellVisibilityManager.hideCells();"
      ],
      "text/plain": [
       "<IPython.core.display.Javascript object>"
      ]
     },
     "metadata": {},
     "output_type": "display_data"
    },
    {
     "data": {
      "application/vnd.jupyter.widget-view+json": {
       "model_id": "8763a5b7a3b24ae2a7995b00ce91a0ed",
       "version_major": 2,
       "version_minor": 0
      },
      "text/plain": [
       "HTML(value='\\n<b style=\"font-size: 18px;\">Por favor, responda à questão:</b><br><br>\\n<b style=\"font-size: 16p…"
      ]
     },
     "metadata": {},
     "output_type": "display_data"
    },
    {
     "data": {
      "application/vnd.jupyter.widget-view+json": {
       "model_id": "3e6c3d0b5cdc4c238eb03e076be610ad",
       "version_major": 2,
       "version_minor": 0
      },
      "text/plain": [
       "RadioButtons(description='Resposta:', layout=Layout(width='600px'), options=('a) Bancos.', 'b) Número de servi…"
      ]
     },
     "metadata": {},
     "output_type": "display_data"
    },
    {
     "data": {
      "application/vnd.jupyter.widget-view+json": {
       "model_id": "9a557e11141549768f6ee16ec1f1a038",
       "version_major": 2,
       "version_minor": 0
      },
      "text/plain": [
       "Button(button_style='info', description='Gravar resposta', style=ButtonStyle())"
      ]
     },
     "metadata": {},
     "output_type": "display_data"
    },
    {
     "data": {
      "application/vnd.jupyter.widget-view+json": {
       "model_id": "3597dc000b5146348ff5c44f6980419b",
       "version_major": 2,
       "version_minor": 0
      },
      "text/plain": [
       "Output()"
      ]
     },
     "metadata": {},
     "output_type": "display_data"
    }
   ],
   "source": [
    "import os\n",
    "import pandas as pd\n",
    "from datetime import datetime\n",
    "from IPython.display import display, clear_output, Javascript\n",
    "import ipywidgets as widgets\n",
    "\n",
    "# hide-me\n",
    "display(Javascript('window.cellVisibilityManager.hideCells();'))\n",
    "\n",
    "# --- Pasta específica para guardar as respostas ---\n",
    "pasta_respostas = \".../respostas\"\n",
    "os.makedirs(pasta_respostas, exist_ok=True)  \n",
    "\n",
    "# --- Questão de escolha múltipla ---\n",
    "pergunta = widgets.RadioButtons(\n",
    "    options=[\n",
    "        \"a) Bancos.\",\n",
    "        \"b) Número total de serviços próximos.\",\n",
    "        \"c) Farmácias.\"\n",
    "    ],\n",
    "    description='Resposta:',\n",
    "    layout=widgets.Layout(width='600px'),\n",
    "    style={'description_width': 'initial'},\n",
    "    value=None\n",
    "    )\n",
    "\n",
    "# --- Botão para gravar a resposta ---\n",
    "botao_gravar = widgets.Button(description='Gravar resposta', button_style='info')\n",
    "output = widgets.Output()\n",
    "\n",
    "# --- Função para gravar a resposta selecionada ---\n",
    "def gravar_resposta(b):\n",
    "    resposta = pergunta.value\n",
    "\n",
    "    if not resposta:\n",
    "        with output:\n",
    "            clear_output()\n",
    "            print(\"Por favor, selecione uma resposta antes de gravar.\")\n",
    "        return\n",
    "\n",
    "    dados = {\n",
    "        \"Resposta\": [resposta],\n",
    "        \"Data\": [datetime.now().strftime(\"%Y-%m-%d %H:%M:%S\")]\n",
    "    }\n",
    "\n",
    "    ficheiro = os.path.join(pasta_respostas, \"respostas_LIME.xlsx\")\n",
    "    df = pd.DataFrame(dados)\n",
    "\n",
    "    if not os.path.isfile(ficheiro):\n",
    "        with output:\n",
    "            clear_output()\n",
    "            print(f\"O ficheiro {ficheiro} não existe. A criar o ficheiro...\")\n",
    "        df.to_excel(ficheiro, index=False, engine='openpyxl')\n",
    "        with output:\n",
    "            clear_output()\n",
    "            print(f\"Ficheiro criado com sucesso em: {ficheiro}\")\n",
    "    else:\n",
    "        df_existente = pd.read_excel(ficheiro, engine='openpyxl')\n",
    "        df_final = pd.concat([df_existente, df], ignore_index=True)\n",
    "        df_final.to_excel(ficheiro, index=False, engine='openpyxl')\n",
    "        with output:\n",
    "            clear_output()\n",
    "            print(f\"Resposta adicionada ao ficheiro {ficheiro}\")\n",
    "\n",
    "    # Limpar a seleção e mostrar mensagem de confirmação\n",
    "    with output:\n",
    "        clear_output()\n",
    "        print(\"Resposta gravada com sucesso! Obrigado.\")\n",
    "        pergunta.value = None\n",
    "\n",
    "botao_gravar.on_click(gravar_resposta)\n",
    "\n",
    "# --- Instrução antes de apresentar a questão ---\n",
    "display(widgets.HTML(\"\"\"\n",
    "<b style=\"font-size: 18px;\">Por favor, responda à questão:</b><br><br>\n",
    "<b style=\"font-size: 16px;\">3. Com base na explicação dada pelo LIME, qual das seguintes variáveis teve maior impacto na classificação desta amostra no agrupamento (Cluster 1)?</b><br>\n",
    "\"\"\"))\n",
    "\n",
    "display(pergunta, botao_gravar, output)"
   ]
  },
  {
   "cell_type": "markdown",
   "id": "27df78f4-c64c-480e-8854-72a796e487ab",
   "metadata": {},
   "source": [
    "<div style=\"border: none; margin: 5px 0; border-top: 1px dashed #FFFFFF; border-bottom: 1px dashed #FFFFFF; height: 5px;\"></div>"
   ]
  },
  {
   "cell_type": "markdown",
   "id": "73920bd4-5f50-40e7-bc3d-48e2250f5a82",
   "metadata": {},
   "source": [
    "Seguinte: [Acesso serviços no contexto cidade 15 minutos](5.ipynb)"
   ]
  },
  {
   "cell_type": "markdown",
   "id": "15cfd635-97af-40fc-bec8-ab06c4bb49c0",
   "metadata": {},
   "source": [
    "<div style=\"border: none; margin: 5px 0; border-top: 1px dashed #FFFFFF; border-bottom: 1px dashed #FFFFFF; height: 5px;\"></div>"
   ]
  }
 ],
 "metadata": {
  "kernelspec": {
   "display_name": "Python 3 (ipykernel)",
   "language": "python",
   "name": "python3"
  },
  "language_info": {
   "codemirror_mode": {
    "name": "ipython",
    "version": 3
   },
   "file_extension": ".py",
   "mimetype": "text/x-python",
   "name": "python",
   "nbconvert_exporter": "python",
   "pygments_lexer": "ipython3",
   "version": "3.12.2"
  }
 },
 "nbformat": 4,
 "nbformat_minor": 5
}
