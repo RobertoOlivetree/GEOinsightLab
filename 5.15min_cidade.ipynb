{
 "cells": [
  {
   "cell_type": "markdown",
   "id": "22bb233d-a60f-4bc1-83e4-4626e5e024ee",
   "metadata": {},
   "source": [
    "<div style=\"border: none; margin: 5px 0; border-top: 1px dashed #FFFFFF; border-bottom: 1px dashed #FFFFFF; height: 5px;\"></div>"
   ]
  },
  {
   "cell_type": "markdown",
   "id": "f916cfb7-ef74-4c46-a805-994f367428f5",
   "metadata": {},
   "source": [
    "<h2 style=\"color: #FFA07A;\">5. Acesso aos serviços no conceito de cidade dos 15 minutos</h2>"
   ]
  },
  {
   "cell_type": "code",
   "execution_count": 1,
   "id": "57cce462-685c-40b0-b819-60e621872e3d",
   "metadata": {},
   "outputs": [
    {
     "data": {
      "application/javascript": [
       "window.cellVisibilityManager?.hideCells?.();"
      ],
      "text/plain": [
       "<IPython.core.display.Javascript object>"
      ]
     },
     "metadata": {},
     "output_type": "display_data"
    },
    {
     "data": {
      "application/javascript": [
       "\n",
       "    (function() {\n",
       "        function ensureManagerExists() {\n",
       "            if (!window.cellVisibilityManager) {\n",
       "                window.cellVisibilityManager = {\n",
       "                    toggleButton: null,\n",
       "\n",
       "                    hideCells: function() {\n",
       "                        try {\n",
       "                            document.querySelectorAll('.jp-Cell, .cell').forEach(cell => {\n",
       "                                let editor = cell.querySelector('.jp-InputArea-editor, .input_area');\n",
       "                                if (editor && editor.innerText.includes('# hide-me')) {\n",
       "                                    let input = cell.querySelector('.jp-InputArea, .input_area');\n",
       "                                    if (input) {\n",
       "                                        input.style.display = 'none';\n",
       "                                        cell.classList.add('hidden');\n",
       "                                    }\n",
       "                                }\n",
       "                            });\n",
       "                        } catch (e) {\n",
       "                            console.warn(\"Erro ao ocultar células:\", e);\n",
       "                        }\n",
       "                    },\n",
       "\n",
       "                    showCells: function() {\n",
       "                        try {\n",
       "                            document.querySelectorAll('.jp-Cell, .cell').forEach(cell => {\n",
       "                                if (cell.classList.contains('hidden')) {\n",
       "                                    let input = cell.querySelector('.jp-InputArea, .input_area');\n",
       "                                    if (input) {\n",
       "                                        input.style.display = '';\n",
       "                                        cell.classList.remove('hidden');\n",
       "                                    }\n",
       "                                }\n",
       "                            });\n",
       "                        } catch (e) {\n",
       "                            console.warn(\"Erro ao mostrar células:\", e);\n",
       "                        }\n",
       "                    },\n",
       "\n",
       "                    toggleCells: function() {\n",
       "                        try {\n",
       "                            let hiddenCells = document.querySelectorAll('.hidden');\n",
       "                            if (hiddenCells.length > 0) {\n",
       "                                this.showCells();\n",
       "                                if (this.toggleButton) this.toggleButton.innerText = \"Ocultar Código\";\n",
       "                            } else {\n",
       "                                this.hideCells();\n",
       "                                if (this.toggleButton) this.toggleButton.innerText = \"Mostrar Código\";\n",
       "                            }\n",
       "                        } catch (e) {\n",
       "                            console.warn(\"Erro ao alternar células:\", e);\n",
       "                        }\n",
       "                    }\n",
       "                };\n",
       "            }\n",
       "        }\n",
       "\n",
       "        function createToggleButton() {\n",
       "            ensureManagerExists();\n",
       "\n",
       "            if (!document.getElementById('toggleCodeButton')) {\n",
       "                let btn = document.createElement('button');\n",
       "                btn.innerText = \"Mostrar Código\";\n",
       "                btn.id = \"toggleCodeButton\";\n",
       "                btn.style.position = 'fixed';\n",
       "                btn.style.top = '10px';\n",
       "                btn.style.right = '10px';\n",
       "                btn.style.padding = '10px 20px';\n",
       "                btn.style.zIndex = '1000';\n",
       "                btn.style.backgroundColor = '#007bff';\n",
       "                btn.style.color = 'white';\n",
       "                btn.style.border = 'none';\n",
       "                btn.style.borderRadius = '5px';\n",
       "                btn.style.cursor = 'pointer';\n",
       "                btn.onclick = function() {\n",
       "                    if (window.cellVisibilityManager) {\n",
       "                        window.cellVisibilityManager.toggleCells();\n",
       "                    }\n",
       "                };\n",
       "\n",
       "                document.body.appendChild(btn);\n",
       "                window.cellVisibilityManager.toggleButton = btn;\n",
       "            }\n",
       "        }\n",
       "\n",
       "        setTimeout(() => {\n",
       "            try {\n",
       "                ensureManagerExists();\n",
       "                createToggleButton();\n",
       "            } catch (e) {\n",
       "                console.warn(\"Erro ao inicializar cellVisibilityManager:\", e);\n",
       "            }\n",
       "        }, 3000);\n",
       "\n",
       "        if (!window.cellVisibilityManager) {\n",
       "            ensureManagerExists();\n",
       "        }\n",
       "\n",
       "        // Impedir rolagem automática para o final\n",
       "        setTimeout(() => {\n",
       "            if (window) {\n",
       "                window.scrollTo({ top: 0, behavior: 'smooth' });\n",
       "            }\n",
       "        }, 500);\n",
       "    })();\n",
       "    "
      ],
      "text/plain": [
       "<IPython.core.display.Javascript object>"
      ]
     },
     "metadata": {},
     "output_type": "display_data"
    },
    {
     "data": {
      "application/javascript": [
       "window.cellVisibilityManager.hideCells();"
      ],
      "text/plain": [
       "<IPython.core.display.Javascript object>"
      ]
     },
     "metadata": {},
     "output_type": "display_data"
    },
    {
     "data": {
      "application/vnd.jupyter.widget-view+json": {
       "model_id": "af0892d60f634ff58f348ae1c81091aa",
       "version_major": 2,
       "version_minor": 0
      },
      "text/plain": [
       "HTML(value='<div></div>')"
      ]
     },
     "metadata": {},
     "output_type": "display_data"
    },
    {
     "data": {
      "application/javascript": [
       "window.cellVisibilityManager.hideCells();"
      ],
      "text/plain": [
       "<IPython.core.display.Javascript object>"
      ]
     },
     "metadata": {},
     "output_type": "display_data"
    },
    {
     "data": {
      "application/javascript": [
       "\n",
       "    (function() {\n",
       "        function ensureManagerExists() {\n",
       "            if (!window.cellVisibilityManager) {\n",
       "                window.cellVisibilityManager = {\n",
       "                    toggleButton: null,\n",
       "\n",
       "                    hideCells: function() {\n",
       "                        try {\n",
       "                            document.querySelectorAll('.jp-Cell, .cell').forEach(cell => {\n",
       "                                let editor = cell.querySelector('.jp-InputArea-editor, .input_area');\n",
       "                                if (editor && editor.innerText.includes('# hide-me')) {\n",
       "                                    let input = cell.querySelector('.jp-InputArea, .input_area');\n",
       "                                    if (input) {\n",
       "                                        input.style.display = 'none';\n",
       "                                        cell.classList.add('hidden');\n",
       "                                    }\n",
       "                                }\n",
       "                            });\n",
       "                        } catch (e) {\n",
       "                            console.warn(\"Erro ao ocultar células:\", e);\n",
       "                        }\n",
       "                    },\n",
       "\n",
       "                    showCells: function() {\n",
       "                        try {\n",
       "                            document.querySelectorAll('.jp-Cell, .cell').forEach(cell => {\n",
       "                                if (cell.classList.contains('hidden')) {\n",
       "                                    let input = cell.querySelector('.jp-InputArea, .input_area');\n",
       "                                    if (input) {\n",
       "                                        input.style.display = '';\n",
       "                                        cell.classList.remove('hidden');\n",
       "                                    }\n",
       "                                }\n",
       "                            });\n",
       "                        } catch (e) {\n",
       "                            console.warn(\"Erro ao mostrar células:\", e);\n",
       "                        }\n",
       "                    },\n",
       "\n",
       "                    toggleCells: function() {\n",
       "                        try {\n",
       "                            let hiddenCells = document.querySelectorAll('.hidden');\n",
       "                            if (hiddenCells.length > 0) {\n",
       "                                this.showCells();\n",
       "                                if (this.toggleButton) this.toggleButton.innerText = \"Ocultar Código\";\n",
       "                            } else {\n",
       "                                this.hideCells();\n",
       "                                if (this.toggleButton) this.toggleButton.innerText = \"Mostrar Código\";\n",
       "                            }\n",
       "                        } catch (e) {\n",
       "                            console.warn(\"Erro ao alternar células:\", e);\n",
       "                        }\n",
       "                    }\n",
       "                };\n",
       "            }\n",
       "        }\n",
       "\n",
       "        function createToggleButton() {\n",
       "            ensureManagerExists();\n",
       "\n",
       "            if (!document.getElementById('toggleCodeButton')) {\n",
       "                let btn = document.createElement('button');\n",
       "                btn.innerText = \"Mostrar Código\";\n",
       "                btn.id = \"toggleCodeButton\";\n",
       "                btn.style.position = 'fixed';\n",
       "                btn.style.top = '10px';\n",
       "                btn.style.right = '10px';\n",
       "                btn.style.padding = '10px 20px';\n",
       "                btn.style.zIndex = '1000';\n",
       "                btn.style.backgroundColor = '#007bff';\n",
       "                btn.style.color = 'white';\n",
       "                btn.style.border = 'none';\n",
       "                btn.style.borderRadius = '5px';\n",
       "                btn.style.cursor = 'pointer';\n",
       "                btn.onclick = function() {\n",
       "                    if (window.cellVisibilityManager) {\n",
       "                        window.cellVisibilityManager.toggleCells();\n",
       "                    }\n",
       "                };\n",
       "\n",
       "                document.body.appendChild(btn);\n",
       "                window.cellVisibilityManager.toggleButton = btn;\n",
       "            }\n",
       "        }\n",
       "\n",
       "        setTimeout(() => {\n",
       "            try {\n",
       "                ensureManagerExists();\n",
       "                createToggleButton();\n",
       "            } catch (e) {\n",
       "                console.warn(\"Erro ao inicializar cellVisibilityManager:\", e);\n",
       "            }\n",
       "        }, 3000);\n",
       "\n",
       "        if (!window.cellVisibilityManager) {\n",
       "            ensureManagerExists();\n",
       "        }\n",
       "\n",
       "        // Impedir rolagem automática para o final\n",
       "        setTimeout(() => {\n",
       "            if (window) {\n",
       "                window.scrollTo({ top: 0, behavior: 'smooth' });\n",
       "            }\n",
       "        }, 500);\n",
       "    })();\n",
       "    "
      ],
      "text/plain": [
       "<IPython.core.display.Javascript object>"
      ]
     },
     "metadata": {},
     "output_type": "display_data"
    },
    {
     "data": {
      "application/javascript": [
       "window.cellVisibilityManager.hideCells();"
      ],
      "text/plain": [
       "<IPython.core.display.Javascript object>"
      ]
     },
     "metadata": {},
     "output_type": "display_data"
    },
    {
     "data": {
      "application/javascript": [
       "window.cellVisibilityManager.hideCells();"
      ],
      "text/plain": [
       "<IPython.core.display.Javascript object>"
      ]
     },
     "metadata": {},
     "output_type": "display_data"
    },
    {
     "data": {
      "text/html": [
       "\n",
       "        <iframe\n",
       "            width=\"100%\"\n",
       "            height=\"650\"\n",
       "            src=\"http://127.0.0.1:8268/\"\n",
       "            frameborder=\"0\"\n",
       "            allowfullscreen\n",
       "            \n",
       "        ></iframe>\n",
       "        "
      ],
      "text/plain": [
       "<IPython.lib.display.IFrame at 0x315824560>"
      ]
     },
     "metadata": {},
     "output_type": "display_data"
    },
    {
     "name": "stdout",
     "output_type": "stream",
     "text": [
      "\u001b[92m[INFO] Após análise, pode continuar.\u001b[0m\n"
     ]
    },
    {
     "data": {
      "application/javascript": [
       "window.cellVisibilityManager.hideCells();"
      ],
      "text/plain": [
       "<IPython.core.display.Javascript object>"
      ]
     },
     "metadata": {},
     "output_type": "display_data"
    },
    {
     "data": {
      "application/vnd.jupyter.widget-view+json": {
       "model_id": "a683269e828a4e2f9318da4303e5cf3a",
       "version_major": 2,
       "version_minor": 0
      },
      "text/plain": [
       "HTML(value='\\n<b style=\"font-size: 18px;\">Por favor, responda às questões:</b><br><br>\\n')"
      ]
     },
     "metadata": {},
     "output_type": "display_data"
    },
    {
     "data": {
      "application/vnd.jupyter.widget-view+json": {
       "model_id": "9c4625ca8bd7401db468c82d38edf5f1",
       "version_major": 2,
       "version_minor": 0
      },
      "text/plain": [
       "HTML(value='<b>4. Quais são os dois serviços menos acessíveis à população com 65 anos ou mais no município do …"
      ]
     },
     "metadata": {},
     "output_type": "display_data"
    },
    {
     "data": {
      "application/vnd.jupyter.widget-view+json": {
       "model_id": "20d5305219374a2b8f7842f65e239588",
       "version_major": 2,
       "version_minor": 0
      },
      "text/plain": [
       "RadioButtons(layout=Layout(width='600px'), options=('a) Farmácia e supermercado.', 'b) Banco e CTT.', 'c) Hosp…"
      ]
     },
     "metadata": {},
     "output_type": "display_data"
    },
    {
     "data": {
      "application/vnd.jupyter.widget-view+json": {
       "model_id": "bcbd2afadee4451e800c48d414e4d1eb",
       "version_major": 2,
       "version_minor": 0
      },
      "text/plain": [
       "HTML(value='<b>5. Qual é o serviço mais acessível à população com 65 anos ou mais no município do Porto?</b>')"
      ]
     },
     "metadata": {},
     "output_type": "display_data"
    },
    {
     "data": {
      "application/vnd.jupyter.widget-view+json": {
       "model_id": "8ca4e3a37e2247a3b299e21c91f3d753",
       "version_major": 2,
       "version_minor": 0
      },
      "text/plain": [
       "RadioButtons(layout=Layout(width='600px'), options=('a) Banco.', 'b) Supermercado.', 'c) Farmácia.'), style=De…"
      ]
     },
     "metadata": {},
     "output_type": "display_data"
    },
    {
     "data": {
      "application/vnd.jupyter.widget-view+json": {
       "model_id": "a8a2b2ce53e34b5ab246f8929f7d296f",
       "version_major": 2,
       "version_minor": 0
      },
      "text/plain": [
       "Button(button_style='info', description='Gravar resposta', style=ButtonStyle())"
      ]
     },
     "metadata": {},
     "output_type": "display_data"
    },
    {
     "data": {
      "application/vnd.jupyter.widget-view+json": {
       "model_id": "b8435303c06a4a07b6ff26fbec801efb",
       "version_major": 2,
       "version_minor": 0
      },
      "text/plain": [
       "Output()"
      ]
     },
     "metadata": {},
     "output_type": "display_data"
    }
   ],
   "source": [
    "# hide-me\n",
    "from IPython.display import Javascript, display\n",
    "display(Javascript('window.cellVisibilityManager?.hideCells?.();'))\n",
    "\n",
    "from IPython import get_ipython\n",
    "import pickle\n",
    "\n",
    "ipython = get_ipython()\n",
    "\n",
    "# ---- Executar bibliotecas ---\n",
    "ipython.run_line_magic(\"run\", \"1.preparacao_bibliotecas.ipynb\")\n",
    "\n",
    "# ---Executar o notebook base ---\n",
    "ipython.run_line_magic(\"run\", \"5.15min_cidade_base.ipynb\")"
   ]
  },
  {
   "cell_type": "markdown",
   "id": "98087239-54c9-40ee-bad5-0368733dc511",
   "metadata": {},
   "source": [
    "<div style=\"border: none; margin: 5px 0; border-top: 1px dashed #FFFFFF; border-bottom: 1px dashed #FFFFFF; height: 5px;\"></div>"
   ]
  },
  {
   "cell_type": "markdown",
   "id": "a2363730-94e6-4bb0-b5d5-b7cfee718a48",
   "metadata": {},
   "source": [
    "Para prosseguir a análise abra o notebook: [Modelos supervisionados e definição dos pesos das variáveis](6.modelos_supervisionados.ipynb)"
   ]
  },
  {
   "cell_type": "markdown",
   "id": "9f24a57c-4a9a-41fe-9331-85ba5e166297",
   "metadata": {},
   "source": [
    "<div style=\"border: none; margin: 5px 0; border-top: 1px dashed #FFFFFF; border-bottom: 1px dashed #FFFFFF; height: 5px;\"></div>"
   ]
  },
  {
   "cell_type": "code",
   "execution_count": null,
   "id": "132f0142-60d7-48e9-b867-ebc9d5839063",
   "metadata": {},
   "outputs": [],
   "source": []
  }
 ],
 "metadata": {
  "kernelspec": {
   "display_name": "Python 3 (ipykernel)",
   "language": "python",
   "name": "python3"
  },
  "language_info": {
   "codemirror_mode": {
    "name": "ipython",
    "version": 3
   },
   "file_extension": ".py",
   "mimetype": "text/x-python",
   "name": "python",
   "nbconvert_exporter": "python",
   "pygments_lexer": "ipython3",
   "version": "3.12.2"
  }
 },
 "nbformat": 4,
 "nbformat_minor": 5
}
